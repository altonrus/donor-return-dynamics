{
 "cells": [
  {
   "cell_type": "code",
   "execution_count": 35,
   "id": "a7ce9fed-42f8-4e58-987a-bd51f5ad11a0",
   "metadata": {},
   "outputs": [],
   "source": [
    "import pyreadstat\n",
    "import pandas as pd\n",
    "import numpy as np\n",
    "import datetime as dt\n",
    "from datetime import timedelta\n",
    "\n",
    "import matplotlib.pyplot as plt\n",
    "import seaborn as sns\n",
    "import warnings\n",
    "\n",
    "warnings.filterwarnings('ignore')"
   ]
  },
  {
   "cell_type": "code",
   "execution_count": 36,
   "id": "a16e83df-6438-4824-9435-e6b51af5dbe1",
   "metadata": {},
   "outputs": [],
   "source": [
    "don=pd.read_csv(\"../1_data/private/donation_donor.csv\") #donations"
   ]
  },
  {
   "cell_type": "code",
   "execution_count": 37,
   "id": "aa265425-d1bc-499f-8a95-e44fbcbfcb94",
   "metadata": {},
   "outputs": [
    {
     "data": {
      "text/plain": [
       "WB                    6191008\n",
       "Platelet/Plasma       1109299\n",
       "Not Drawn/Unknown      829207\n",
       "2RBC                   804348\n",
       "RBC                    145233\n",
       "Sample                  14514\n",
       "Tissue/Granulocyte       1584\n",
       "Name: don_proc_cat, dtype: int64"
      ]
     },
     "execution_count": 37,
     "metadata": {},
     "output_type": "execute_result"
    }
   ],
   "source": [
    "#preprocess don\n",
    "\n",
    "don.loc[(don['PHLEBOTOMY_GROUP'] == 'Whole Blood'), 'don_proc_cat']='WB'\n",
    "\n",
    "don.loc[(don['PHLEBOTOMY_GROUP'] == 'RBCP') |\n",
    "          (don['PHLEBOTOMY_GROUP'] == 'Platelet/RBC/Plasma') | (don['PHLEBOTOMY_GROUP'] == 'Platelet/RBC'), 'don_proc_cat']='RBC'\n",
    "\n",
    "don.loc[(don['PHLEBOTOMY_GROUP'] == 'Platelet') | (don['PHLEBOTOMY_GROUP'] == 'Platelet/Plasma') |\n",
    "          (don['PHLEBOTOMY_GROUP'] == 'Plasma') | (don['PHLEBOTOMY_GROUP'] == 'COVID-19 Plasma') | (don['PHLEBOTOMY_GROUP'] == 'Source Plasma'), 'don_proc_cat']='Platelet/Plasma'\n",
    "\n",
    "don.loc[(don['PHLEBOTOMY_GROUP'] == 'Sample Only') | (don['PHLEBOTOMY_GROUP'] == 'Research/Sample Only'), 'don_proc_cat']='Sample'\n",
    "\n",
    "don.loc[(don['PHLEBOTOMY_GROUP'] == 'Not Drawn') | (don['PHLEBOTOMY_GROUP'] == 'UNKNOWN'), 'don_proc_cat']='Not Drawn/Unknown'\n",
    "\n",
    "don.loc[(don['PHLEBOTOMY_GROUP'] == '2RBC') , 'don_proc_cat']='2RBC'\n",
    "\n",
    "don.loc[(don['PHLEBOTOMY_GROUP'] == 'Tissue Collections') | (don['PHLEBOTOMY_GROUP'] == 'Granulocyte'), 'don_proc_cat']='Tissue/Granulocyte'\n",
    "\n",
    "don.don_proc_cat.value_counts()\n"
   ]
  },
  {
   "cell_type": "code",
   "execution_count": 38,
   "id": "b11f5250-302f-44bc-a0c6-767ca1061767",
   "metadata": {},
   "outputs": [],
   "source": [
    "don.sort_values(by=['DONOR_KEY', 'DON_DATE_KEY', 'DIN'], axis = 0, inplace=True)\n",
    "don[\"NEXT_DON\"] = np.where(don['DONOR_KEY'] == don['DONOR_KEY'].shift(-1), don['don_proc_cat'].shift(-1), 10)\n",
    "don[\"PREV_DON\"] = np.where(don['DONOR_KEY'] == don['DONOR_KEY'].shift(1), don['don_proc_cat'].shift(1), 10)"
   ]
  },
  {
   "cell_type": "code",
   "execution_count": 39,
   "id": "4c0d2ffd-4088-4730-abb0-bca5b52aa872",
   "metadata": {},
   "outputs": [],
   "source": [
    "#IMPUTE DON_PROC\n",
    "# if immediate next donation procedure is WB/RBC then deferred donation is WB/RBC\n",
    " #if immediate previous donation procedure is WB/RBC then deferred donation is WB/RBC\n",
    "# if only donated one time and got deferred - WB/RBC\n",
    "\n",
    "\n",
    "don['def_prod_imputed'] = np.where((don['don_proc_cat'] == 'Not Drawn/Unknown') & (don.PREV_DON=='WB'), 1, 0)\n",
    "don['def_prod_imputed'] = np.where((don['don_proc_cat'] == 'Not Drawn/Unknown') & (don.NEXT_DON=='WB'), 1, don.def_prod_imputed)\n",
    "don['def_prod_imputed'] = np.where((don['don_proc_cat'] == 'Not Drawn/Unknown') & ((don.NEXT_DON==10) & (don.PREV_DON==10)), 1, don.def_prod_imputed)\n"
   ]
  },
  {
   "cell_type": "code",
   "execution_count": 40,
   "id": "254cc43e-bbcc-4c9a-96fa-33143af41bfb",
   "metadata": {},
   "outputs": [
    {
     "data": {
      "text/plain": [
       "WB                    6836654\n",
       "Platelet/Plasma       1109299\n",
       "2RBC                   804348\n",
       "Not Drawn/Unknown      183561\n",
       "RBC                    145233\n",
       "Sample                  14514\n",
       "Tissue/Granulocyte       1584\n",
       "Name: don_proc_cat, dtype: int64"
      ]
     },
     "execution_count": 40,
     "metadata": {},
     "output_type": "execute_result"
    }
   ],
   "source": [
    "don['don_proc_cat']=np.where(don.def_prod_imputed == 1, 'WB', don.don_proc_cat)\n",
    "don.don_proc_cat.value_counts()"
   ]
  },
  {
   "cell_type": "code",
   "execution_count": 41,
   "id": "b12bddf7-6c8e-4594-86a7-14d9510f3838",
   "metadata": {},
   "outputs": [
    {
     "data": {
      "text/plain": [
       "WB                    6859594\n",
       "Platelet/Plasma       1159562\n",
       "2RBC                   823730\n",
       "RBC                    151344\n",
       "Sample                  15208\n",
       "Tissue/Granulocyte       1723\n",
       "Name: don_proc_cat, dtype: int64"
      ]
     },
     "execution_count": 41,
     "metadata": {},
     "output_type": "execute_result"
    }
   ],
   "source": [
    "# backward fill remaining NOT DRAWNs- most proximal next visit\n",
    "\n",
    "don['don_proc_cat']=np.where((don['don_proc_cat'] == 'Not Drawn/Unknown'), np.NaN, don.don_proc_cat)\n",
    "\n",
    "don['don_proc_cat'] = don.groupby('DONOR_KEY')['don_proc_cat'].bfill()\n",
    "don.don_proc_cat.value_counts()"
   ]
  },
  {
   "cell_type": "code",
   "execution_count": 42,
   "id": "4362eb8e-d13b-4b5c-a03d-1057d22b496d",
   "metadata": {},
   "outputs": [
    {
     "data": {
      "text/plain": [
       "5715779"
      ]
     },
     "execution_count": 42,
     "metadata": {},
     "output_type": "execute_result"
    }
   ],
   "source": [
    "#don=don2#uncomment and run to reset\n",
    "don2=don #duplicate before changing\n",
    "don.drop(don[(don['DONOR_NUMBER'] == 'UNKNOWN')].index, inplace=True)\n",
    "don.drop(don[(don['DONOR_KEY'] == 0.0)].index, inplace=True)\n",
    "don.drop(don[don.DON_DATE_KEY.isna()].index, inplace=True)\n",
    "\n",
    "#rbc and Wb only and allogenic\n",
    "don.drop(don[(don['don_proc_cat'] != 'WB')].index, inplace=True)\n",
    "don.drop(don[(don['DONATION_TYPE'] != 'Allogeneic')].index, inplace=True)\n",
    "#remove FINs that are still in the process if migrating\n",
    "\n",
    "don['FIN']=don.DONATION_NUMBER.str.slice(start=0, stop=5)\n",
    "don.drop(don[(don['FIN'] == 'W0358') |\n",
    "             (don['FIN'] == 'W0364') |\n",
    "             (don['FIN'] == 'W0433') |\n",
    "             (don['FIN'] == 'W2864') |\n",
    "             (don['FIN'] == 'W2865') |\n",
    "             (don['FIN'] == 'W2868') |\n",
    "             (don['FIN'] == 'W2869') |\n",
    "             (don['FIN'] == 'W2870') |\n",
    "             (don['FIN'] == 'W2873') |\n",
    "             (don['FIN'] == 'W2874') |\n",
    "             (don['FIN'] == 'W2875') |\n",
    "             (don['FIN'] == 'W2876') |\n",
    "             (don['FIN'] == 'W2877') |\n",
    "             (don['FIN'] == 'W2878') |\n",
    "             (don['FIN'] == 'W2879') |\n",
    "             (don['FIN'] == 'W2880') |\n",
    "             (don['FIN'] == 'W2881') |\n",
    "             (don['FIN'] == 'W2882') |\n",
    "             (don['FIN'] == 'W2883') |\n",
    "             (don['FIN'] == 'W2884') |\n",
    "             (don['FIN'] == 'W2885') |\n",
    "             (don['FIN'] == 'W2886') ].index, inplace=True)\n",
    "\n",
    "len(don)"
   ]
  },
  {
   "cell_type": "code",
   "execution_count": 44,
   "id": "ffadb85b-d874-4344-8971-aa9a698b2f21",
   "metadata": {},
   "outputs": [],
   "source": [
    "#save preprocessed file\n",
    "don.to_csv((\"../1_data/private/donation_donor2.csv\"), index=False)"
   ]
  },
  {
   "cell_type": "code",
   "execution_count": null,
   "id": "6b1b9a5e-fd70-4681-acce-60e9538e1f7c",
   "metadata": {},
   "outputs": [],
   "source": []
  }
 ],
 "metadata": {
  "kernelspec": {
   "display_name": "Python 3 (ipykernel)",
   "language": "python",
   "name": "python3"
  },
  "language_info": {
   "codemirror_mode": {
    "name": "ipython",
    "version": 3
   },
   "file_extension": ".py",
   "mimetype": "text/x-python",
   "name": "python",
   "nbconvert_exporter": "python",
   "pygments_lexer": "ipython3",
   "version": "3.10.12"
  }
 },
 "nbformat": 4,
 "nbformat_minor": 5
}
