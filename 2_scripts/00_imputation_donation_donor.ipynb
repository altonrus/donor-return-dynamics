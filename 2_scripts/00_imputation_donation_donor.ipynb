{
 "cells": [
  {
   "cell_type": "code",
   "execution_count": null,
   "id": "a7ce9fed-42f8-4e58-987a-bd51f5ad11a0",
   "metadata": {},
   "outputs": [],
   "source": [
    "## impute donation type for deferrals for both US and SA data before preprocessing\n",
    "\n",
    "\n",
    "import pyreadstat\n",
    "import pandas as pd\n",
    "import numpy as np\n",
    "import datetime as dt\n",
    "from datetime import timedelta\n",
    "\n",
    "import matplotlib.pyplot as plt\n",
    "import seaborn as sns\n",
    "import warnings\n",
    "\n",
    "warnings.filterwarnings('ignore')"
   ]
  },
  {
   "cell_type": "code",
   "execution_count": null,
   "id": "95e630d8-0436-4f06-8cf8-c498646a1042",
   "metadata": {},
   "outputs": [],
   "source": [
    "#SANBS\n",
    "\n",
    "df=pd.read_csv(\"../1_data/private/SANBSdata.csv\")\n",
    "len(df)"
   ]
  },
  {
   "cell_type": "code",
   "execution_count": null,
   "id": "38892a42-bf45-4717-b2a7-2bda93585cdc",
   "metadata": {},
   "outputs": [],
   "source": [
    "#categorise donation types\n",
    "\n",
    "df.loc[(df['donation_product'] == 'WB')|\n",
    "           (df['donation_product'] == 'WBSB')| (df['donation_product'] == 'WBMED')| (df['donation_product'] == 'WBDISC')\n",
    "           |( df['donation_product'] == 'WBOB') |(df['donation_product'] == 'WBDP') | (df['donation_product'] == 'WBD') ,\n",
    "           'donation_product']='WB'\n",
    "\n",
    "df.loc[(df['donation_product'] == 'RBCAPH')|\n",
    "           (df['donation_product'] == 'HPC.APHERESIS')| (df['donation_product'] == 'APHRET_PLASPLCA')| (df['donation_product'] == 'APHRET_PLCA'),'donation_product']='APH'\n",
    "\n",
    "df.loc[(df['donation_product'] == 'SPCCPSTOP')|\n",
    "           (df['donation_product'] == 'CCPD')| (df['donation_product'] == 'SPCCPRETURN')| (df['donation_product'] == 'SPCCP'),\n",
    "           'donation_product']='CCP'"
   ]
  },
  {
   "cell_type": "code",
   "execution_count": null,
   "id": "a6bdef64-cd12-42f6-af9d-5494ff7ec774",
   "metadata": {},
   "outputs": [],
   "source": [
    "\n",
    "# Compute donation product for deferred donors - using the following criteria\n",
    " # 1) if donor only has WB then deferred donation is WB\n",
    " # 2) if next donation procedure is WB then deferred donation is WB/\n",
    " # 3) if previous donation procedure is WB then deferred donation is WB/\n",
    " # 4) if only donated one time and got deferred - WB\n",
    " \n",
    "#prev successful \n",
    "#next successful\n",
    "df.sort_values(by=['DonorID', 'don_Sequence', 'Visit_Date'], axis = 0, inplace=True)\n",
    "\n",
    "df[\"NEXT_DON\"] = np.where(df['DonorID'] == df['DonorID'].shift(-1), df['donation_product'].shift(-1), 10)\n",
    "df[\"PREV_DON\"] = np.where(df['DonorID'] == df['DonorID'].shift(1), df['donation_product'].shift(1), 10)\n",
    "\n",
    "\n",
    "df['def_prod_imputed'] = np.where((df['donation_product'] == 'DEF PROD') & (df.PREV_DON=='WB'), 1, 0)\n",
    "df['def_prod_imputed'] = np.where((df['donation_product'] == 'DEF PROD') & (df.NEXT_DON=='WB'), 1, df.def_prod_imputed)\n",
    "df['def_prod_imputed'] = np.where((df['donation_product'] == 'DEF PROD') & ((df.NEXT_DON==10) & (df.PREV_DON==10)), 1, df.def_prod_imputed)\n",
    "df['donation_product']=np.where(df.def_prod_imputed == 1, 'WB', df.donation_product)\n",
    "\n",
    "# backward fill remaining NOT DRAWNs- most proximal next visit\n",
    "df['donation_product']=np.where((df['donation_product'] == 'DEF PROD'), np.NaN, (df['donation_product']))\n",
    "\n",
    "df['donation_product'] = df.groupby('DonorID')['donation_product'].bfill()\n",
    "\n",
    "\n",
    "#keep only data after 2017\n",
    "mask = (df['Visit_yr'] >= 2017) \n",
    "df = df.loc[mask]\n"
   ]
  },
  {
   "cell_type": "code",
   "execution_count": null,
   "id": "dbe45492-9726-4d48-9ef5-bfe2bb744d6d",
   "metadata": {},
   "outputs": [],
   "source": [
    "#save preprocessed file\n",
    "df.to_csv((\"../1_data/private/SANBSdata2.csv\"), index=False)"
   ]
  },
  {
   "cell_type": "code",
   "execution_count": null,
   "id": "f5b34851-0f46-40c3-9e75-4022cdc2998a",
   "metadata": {},
   "outputs": [],
   "source": [
    "#######################################################"
   ]
  },
  {
   "cell_type": "code",
   "execution_count": null,
   "id": "a16e83df-6438-4824-9435-e6b51af5dbe1",
   "metadata": {},
   "outputs": [],
   "source": [
    "#Vitalant\n",
    "don=pd.read_csv(\"../1_data/private/donation_donor.csv\") #donations"
   ]
  },
  {
   "cell_type": "code",
   "execution_count": null,
   "id": "aa265425-d1bc-499f-8a95-e44fbcbfcb94",
   "metadata": {},
   "outputs": [],
   "source": [
    "#categorise donation types\n",
    "\n",
    "don.loc[(don['PHLEBOTOMY_GROUP'] == 'Whole Blood'), 'don_proc_cat']='WB'\n",
    "\n",
    "don.loc[(don['PHLEBOTOMY_GROUP'] == 'RBCP') |\n",
    "          (don['PHLEBOTOMY_GROUP'] == 'Platelet/RBC/Plasma') | (don['PHLEBOTOMY_GROUP'] == 'Platelet/RBC'), 'don_proc_cat']='RBC'\n",
    "\n",
    "don.loc[(don['PHLEBOTOMY_GROUP'] == 'Platelet') | (don['PHLEBOTOMY_GROUP'] == 'Platelet/Plasma') |\n",
    "          (don['PHLEBOTOMY_GROUP'] == 'Plasma') | (don['PHLEBOTOMY_GROUP'] == 'COVID-19 Plasma') | (don['PHLEBOTOMY_GROUP'] == 'Source Plasma'), 'don_proc_cat']='Platelet/Plasma'\n",
    "\n",
    "don.loc[(don['PHLEBOTOMY_GROUP'] == 'COVID-19 Plasma'), 'don_proc_cat']='CCP'\n",
    "\n",
    "don.loc[(don['PHLEBOTOMY_GROUP'] == 'Sample Only') | (don['PHLEBOTOMY_GROUP'] == 'Research/Sample Only'), 'don_proc_cat']='Sample'\n",
    "\n",
    "don.loc[(don['PHLEBOTOMY_GROUP'] == 'Not Drawn') | (don['PHLEBOTOMY_GROUP'] == 'UNKNOWN'), 'don_proc_cat']='Not Drawn/Unknown'\n",
    "\n",
    "don.loc[(don['PHLEBOTOMY_GROUP'] == '2RBC') , 'don_proc_cat']='2RBC'\n",
    "\n",
    "don.loc[(don['PHLEBOTOMY_GROUP'] == 'Tissue Collections') | (don['PHLEBOTOMY_GROUP'] == 'Granulocyte'), 'don_proc_cat']='Tissue/Granulocyte'\n",
    "\n",
    "don.don_proc_cat.value_counts()\n"
   ]
  },
  {
   "cell_type": "code",
   "execution_count": null,
   "id": "b11f5250-302f-44bc-a0c6-767ca1061767",
   "metadata": {},
   "outputs": [],
   "source": [
    "#store next and orev donation type\n",
    "don.sort_values(by=['DONOR_KEY', 'DON_DATE_KEY', 'DIN'], axis = 0, inplace=True)\n",
    "don[\"NEXT_DON\"] = np.where(don['DONOR_KEY'] == don['DONOR_KEY'].shift(-1), don['don_proc_cat'].shift(-1), 10)\n",
    "don[\"PREV_DON\"] = np.where(don['DONOR_KEY'] == don['DONOR_KEY'].shift(1), don['don_proc_cat'].shift(1), 10)\n",
    "\n",
    "#IMPUTE DON_PROC\n",
    "# if immediate next donation procedure is WB/RBC then deferred donation is WB/RBC\n",
    " #if immediate previous donation procedure is WB/RBC then deferred donation is WB/RBC\n",
    "# if only donated one time and got deferred - WB/RBC\n",
    "\n",
    "\n",
    "don['def_prod_imputed'] = np.where((don['don_proc_cat'] == 'Not Drawn/Unknown') & (don.PREV_DON=='WB'), 1, 0)\n",
    "don['def_prod_imputed'] = np.where((don['don_proc_cat'] == 'Not Drawn/Unknown') & (don.NEXT_DON=='WB'), 1, don.def_prod_imputed)\n",
    "don['def_prod_imputed'] = np.where((don['don_proc_cat'] == 'Not Drawn/Unknown') & ((don.NEXT_DON==10) & (don.PREV_DON==10)), 1, don.def_prod_imputed)\n",
    "\n",
    "don['don_proc_cat']=np.where(don.def_prod_imputed == 1, 'WB', don.don_proc_cat)\n",
    "\n",
    "# backward fill remaining NOT DRAWNs- most proximal next visit\n",
    "\n",
    "don['don_proc_cat']=np.where((don['don_proc_cat'] == 'Not Drawn/Unknown'), np.NaN, don.don_proc_cat)\n",
    "\n",
    "don['don_proc_cat'] = don.groupby('DONOR_KEY')['don_proc_cat'].bfill()\n",
    "don.don_proc_cat.value_counts()\n",
    "\n",
    "#don=don2#uncomment and run to reset\n",
    "don2=don #duplicate before changing\n",
    "don.drop(don[(don['DONOR_NUMBER'] == 'UNKNOWN')].index, inplace=True)\n",
    "don.drop(don[(don['DONOR_KEY'] == 0.0)].index, inplace=True)\n",
    "don.drop(don[don.DON_DATE_KEY.isna()].index, inplace=True)\n",
    "\n",
    "don['FIN']=don.DONATION_NUMBER.str.slice(start=0, stop=5)\n",
    "don.drop(don[(don['FIN'] == 'W0358') |\n",
    "             (don['FIN'] == 'W0364') |\n",
    "             (don['FIN'] == 'W0433') |\n",
    "             (don['FIN'] == 'W2864') |\n",
    "             (don['FIN'] == 'W2865') |\n",
    "             (don['FIN'] == 'W2868') |\n",
    "             (don['FIN'] == 'W2869') |\n",
    "             (don['FIN'] == 'W2870') |\n",
    "             (don['FIN'] == 'W2873') |\n",
    "             (don['FIN'] == 'W2874') |\n",
    "             (don['FIN'] == 'W2875') |\n",
    "             (don['FIN'] == 'W2876') |\n",
    "             (don['FIN'] == 'W2877') |\n",
    "             (don['FIN'] == 'W2878') |\n",
    "             (don['FIN'] == 'W2879') |\n",
    "             (don['FIN'] == 'W2880') |\n",
    "             (don['FIN'] == 'W2881') |\n",
    "             (don['FIN'] == 'W2882') |\n",
    "             (don['FIN'] == 'W2883') |\n",
    "             (don['FIN'] == 'W2884') |\n",
    "             (don['FIN'] == 'W2885') |\n",
    "             (don['FIN'] == 'W2886') ].index, inplace=True)\n",
    "\n",
    "len(don)"
   ]
  },
  {
   "cell_type": "code",
   "execution_count": null,
   "id": "ffadb85b-d874-4344-8971-aa9a698b2f21",
   "metadata": {},
   "outputs": [],
   "source": [
    "#save preprocessed file\n",
    "don.to_csv((\"../1_data/private/donation_donor2.csv\"), index=False)"
   ]
  },
  {
   "cell_type": "code",
   "execution_count": null,
   "id": "6b1b9a5e-fd70-4681-acce-60e9538e1f7c",
   "metadata": {},
   "outputs": [],
   "source": []
  }
 ],
 "metadata": {
  "kernelspec": {
   "display_name": "Python 3",
   "language": "python",
   "name": "python3"
  },
  "language_info": {
   "codemirror_mode": {
    "name": "ipython",
    "version": 3
   },
   "file_extension": ".py",
   "mimetype": "text/x-python",
   "name": "python",
   "nbconvert_exporter": "python",
   "pygments_lexer": "ipython3",
   "version": "3.8.8"
  }
 },
 "nbformat": 4,
 "nbformat_minor": 5
}
