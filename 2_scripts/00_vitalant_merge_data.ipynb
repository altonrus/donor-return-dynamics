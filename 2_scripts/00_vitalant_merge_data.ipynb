{
 "cells": [
  {
   "cell_type": "code",
   "execution_count": 73,
   "id": "c6898ca2-6915-481f-98ea-1e3adc036033",
   "metadata": {},
   "outputs": [],
   "source": [
    "import pyreadstat\n",
    "import pandas as pd\n",
    "import numpy as np\n",
    "import datetime as dt\n",
    "from datetime import timedelta\n",
    "\n",
    "import matplotlib.pyplot as plt\n",
    "import seaborn as sns\n",
    "import warnings\n",
    "\n",
    "warnings.filterwarnings('ignore')"
   ]
  },
  {
   "cell_type": "code",
   "execution_count": 74,
   "id": "ff8118f4-cb7c-45aa-9475-0110455c028e",
   "metadata": {},
   "outputs": [
    {
     "name": "stdout",
     "output_type": "stream",
     "text": [
      "(5715779, 35)\n",
      "(1084380, 17)\n"
     ]
    }
   ],
   "source": [
    "#load all files\n",
    "\n",
    "don=pd.read_csv(\"../1_data/private/donation_donor2.csv\")\n",
    "defr=pd.read_csv(\"../1_data/private/deferral.csv\")\n",
    "collect=pd.read_csv(\"../1_data/private/collec_sites.csv\")\n",
    "med_quest=pd.read_csv(\"../1_data/private/medical_quest.csv\")\n",
    "drive=pd.read_csv(\"../1_data/private/drive.csv\")\n",
    "\n",
    "#dimensions\n",
    "print(don.shape)\n",
    "print(defr.shape)"
   ]
  },
  {
   "cell_type": "code",
   "execution_count": 75,
   "id": "216e4d4a-1545-4024-ba43-4efbca04c8f9",
   "metadata": {},
   "outputs": [],
   "source": [
    "don_hist=pd.read_csv(\"../1_data/private/don_hist2_V.csv\")"
   ]
  },
  {
   "cell_type": "code",
   "execution_count": 76,
   "id": "1cdfef7b-3024-42c3-aa65-0cab60ef62e2",
   "metadata": {},
   "outputs": [],
   "source": [
    "# merge don with collect and drives\n",
    "\n",
    "collect=pd.read_csv(\"../1_data/private/collec_sites.csv\", error_bad_lines=False) \n",
    "don= pd.merge(don, collect, how='left', on=[\"COLLECTION_SITE_KEY\"])\n",
    "drive=pd.read_csv(\"../1_data/private/drive.csv\", error_bad_lines=False)\n",
    "don=pd.merge(don, drive, how='left', on=[\"DRIVE_ID\"])"
   ]
  },
  {
   "cell_type": "code",
   "execution_count": 77,
   "id": "3f961632-aefc-4643-90fa-292aa38bc490",
   "metadata": {},
   "outputs": [],
   "source": [
    "#merge donor history\n",
    "#merge donor_history\n",
    "don['DonorID']=don['DONOR_KEY']\n",
    "don[\"Visit_Date\"] = pd.to_datetime(don['DON_DATE_KEY'], format='%Y%m%d') #convert to datetime object\n",
    "don['Visit_Date']=pd.to_datetime(don['Visit_Date']).dt.strftime('%Y-%m-%dT%H:%M:%SZ') #covert to ISO -#2019-03-26T00:00:00Z\n",
    "#don.rename(columns={'DONATION_NUMBER_x': 'DONATION_NUMBER'}, inplace=True)\n",
    "\n",
    "don=pd.merge(don, don_hist[[ 'DonorID', 'Visit_Date','cum_lifetime_donations',\n",
    "                          'rbc_loss_last_12_months', 'rbc_loss_last_24_months']], how='left', on=[\"DonorID\", \"Visit_Date\"])\n"
   ]
  },
  {
   "cell_type": "code",
   "execution_count": 78,
   "id": "a5de4c08-6bf2-4cdd-8423-11132cd797d6",
   "metadata": {},
   "outputs": [
    {
     "name": "stdout",
     "output_type": "stream",
     "text": [
      "6564933\n",
      "6564877\n",
      "551256\n",
      "551256\n"
     ]
    }
   ],
   "source": [
    "#preprocess med_quest\n",
    "\n",
    "med_questHGB=med_quest.loc[(med_quest['QUESTION_CODE']=='5U')] #df with hgb values\n",
    "print(len(med_questHGB))\n",
    "med_questHGB = med_questHGB.drop_duplicates()\n",
    "print(len(med_questHGB))\n",
    "\n",
    "med_questHGB_recheck=med_quest.loc[(med_quest['QUESTION_CODE']=='5V')] #df with hgb recheck values\n",
    "print(len(med_questHGB_recheck))\n",
    "med_questHGB_recheck=med_questHGB_recheck.drop_duplicates()\n",
    "print(len(med_questHGB_recheck))\n"
   ]
  },
  {
   "cell_type": "code",
   "execution_count": 79,
   "id": "60d1c0ec-2be4-44c4-8ef6-90df01f497ad",
   "metadata": {},
   "outputs": [
    {
     "name": "stdout",
     "output_type": "stream",
     "text": [
      "6564881\n",
      "6564889\n",
      "6564803\n"
     ]
    }
   ],
   "source": [
    "#define hgb value-> if recheck if not na replace hgb value with recheck value\n",
    "m=pd.merge(med_questHGB[[\"DON_DATE_KEY\", \"DONATION_NUMBER\", 'MQ_ANSWER']], med_questHGB_recheck[[ \"DON_DATE_KEY\", \"DONATION_NUMBER\", 'MQ_ANSWER']], how='left', on=['DONATION_NUMBER']) \n",
    "print(len(m))\n",
    "m=pd.merge(m, med_questHGB_recheck, how='left', on=['DONATION_NUMBER'])\n",
    "m = m.drop_duplicates()\n",
    "print(len(m))\n",
    "hgb_dups = m[m.duplicated(subset='DONATION_NUMBER', keep=False)]\n",
    "m = m[~m['DONATION_NUMBER'].isin(hgb_dups['DONATION_NUMBER'])]\n",
    "print(len(m))\n"
   ]
  },
  {
   "cell_type": "code",
   "execution_count": 80,
   "id": "a6565819-bb7b-4d57-a602-195e1753455f",
   "metadata": {},
   "outputs": [],
   "source": [
    "#fix errors\n",
    "m.loc[m.MQ_ANSWER_y=='NOT RECHECKED', 'MQ_ANSWER_y'] = np.NaN\n",
    "m.loc[m.MQ_ANSWER_x=='NO RESPONSE', 'MQ_ANSWER_x'] = np.NaN\n",
    "m.loc[m.MQ_ANSWER_x=='WALKOUT', 'MQ_ANSWER_x'] = np.NaN\n",
    "m.loc[m.MQ_ANSWER_x=='Not Performed', 'MQ_ANSWER_x'] = np.NaN\n",
    "m.loc[m.MQ_ANSWER=='NOT RECHECKED', 'MQ_ANSWER'] = np.NaN\n",
    "m['5V']=pd.to_numeric(m['MQ_ANSWER_y'])\n",
    "m['5U']=pd.to_numeric(m['MQ_ANSWER_x'])\n"
   ]
  },
  {
   "cell_type": "code",
   "execution_count": 81,
   "id": "ece851d3-287a-4cb5-9c59-d39beb1bf190",
   "metadata": {},
   "outputs": [],
   "source": [
    "m['HGB_value']= m[[\"5U\", \"5V\"]].max(axis=1)\n",
    "#m['HGB_value']=np.where((m['5V'].notna()), m['5V'], m['5U'])#\n",
    "\n",
    "m.drop(['MQ_ANSWER', 'MQ_ANSWER_x', 'MQ_ANSWER_y'], axis=1, inplace=True)\n",
    "\n",
    "m['HGB_value'].replace(np.nan, 999, regex=True, inplace=True)\n",
    "\n",
    "#add hgb values\n",
    "df=pd.merge(don, m[[\"DONATION_NUMBER\", 'HGB_value']], how='left', on=[\"DONATION_NUMBER\"]) \n"
   ]
  },
  {
   "cell_type": "code",
   "execution_count": 82,
   "id": "a000a020-a80e-4fc3-bb8c-5bf8ef368e70",
   "metadata": {},
   "outputs": [
    {
     "data": {
      "text/plain": [
       "6564803"
      ]
     },
     "execution_count": 82,
     "metadata": {},
     "output_type": "execute_result"
    }
   ],
   "source": [
    "m.DONATION_NUMBER.nunique()"
   ]
  },
  {
   "cell_type": "code",
   "execution_count": 83,
   "id": "654a5925-904c-455b-9ec4-09fa2e0fc1cc",
   "metadata": {},
   "outputs": [
    {
     "data": {
      "text/plain": [
       "5715779"
      ]
     },
     "execution_count": 83,
     "metadata": {},
     "output_type": "execute_result"
    }
   ],
   "source": [
    "len(don)"
   ]
  },
  {
   "cell_type": "code",
   "execution_count": 84,
   "id": "dd8f0098-8b96-411e-ac14-34e0d9416efe",
   "metadata": {},
   "outputs": [
    {
     "data": {
      "text/plain": [
       "5715779"
      ]
     },
     "execution_count": 84,
     "metadata": {},
     "output_type": "execute_result"
    }
   ],
   "source": [
    "len(df)"
   ]
  },
  {
   "cell_type": "code",
   "execution_count": 85,
   "id": "3501ef68-a3b3-473f-acf3-5f79c0bdfa07",
   "metadata": {},
   "outputs": [
    {
     "name": "stdout",
     "output_type": "stream",
     "text": [
      "5769588\n"
     ]
    }
   ],
   "source": [
    "df1=pd.merge(df, defr, how='left', on=[\"DONOR_KEY\", \"DON_DATE_KEY\"])\n",
    "print(len(df1))"
   ]
  },
  {
   "cell_type": "code",
   "execution_count": 86,
   "id": "3cdd0798-62dc-4aa8-ba5c-8f5e86ad5709",
   "metadata": {},
   "outputs": [],
   "source": [
    "#dfsub.to_csv((\"../1_data/private/sub_data.csv\"), index=False)\n",
    "df1.to_csv('../1_data/private/VitalantData.csv', index=False)"
   ]
  },
  {
   "cell_type": "code",
   "execution_count": null,
   "id": "db247955-02fa-43c3-bf8b-f7b6c2ff9cc2",
   "metadata": {},
   "outputs": [],
   "source": []
  }
 ],
 "metadata": {
  "kernelspec": {
   "display_name": "Python 3 (ipykernel)",
   "language": "python",
   "name": "python3"
  },
  "language_info": {
   "codemirror_mode": {
    "name": "ipython",
    "version": 3
   },
   "file_extension": ".py",
   "mimetype": "text/x-python",
   "name": "python",
   "nbconvert_exporter": "python",
   "pygments_lexer": "ipython3",
   "version": "3.10.12"
  }
 },
 "nbformat": 4,
 "nbformat_minor": 5
}
