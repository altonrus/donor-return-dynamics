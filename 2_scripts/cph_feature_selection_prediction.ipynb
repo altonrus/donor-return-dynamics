{
 "cells": [
  {
   "cell_type": "code",
   "execution_count": 2,
   "id": "d0aff929",
   "metadata": {},
   "outputs": [
    {
     "name": "stderr",
     "output_type": "stream",
     "text": [
      "c:\\Users\\jagir\\anaconda3\\lib\\site-packages\\IPython\\core\\interactiveshell.py:3165: DtypeWarning: Columns (17) have mixed types.Specify dtype option on import or set low_memory=False.\n",
      "  has_raised = await self.run_ast_nodes(code_ast.body, cell_name,\n"
     ]
    },
    {
     "name": "stdout",
     "output_type": "stream",
     "text": [
      "4286365\n",
      "596176\n"
     ]
    }
   ],
   "source": [
    "#penalized cox model to predict factors influencing donors time to return\n",
    "\n",
    "# Cox Penalized Regression model with LASSO Penalty\n",
    "\n",
    "#-- two models after completed and after deferral\n",
    "#keep only WB \n",
    "\n",
    "import pandas as pd\n",
    "import numpy as np\n",
    "import datetime as dt\n",
    "from datetime import timedelta\n",
    "\n",
    "import matplotlib.pyplot as plt\n",
    "import seaborn as sns\n",
    "\n",
    "from sksurv.linear_model import CoxnetSurvivalAnalysis\n",
    "from sksurv.linear_model import CoxPHSurvivalAnalysis\n",
    "\n",
    "from sklearn.model_selection import GridSearchCV, KFold, train_test_split\n",
    "from sklearn.pipeline import make_pipeline\n",
    "from sklearn.preprocessing import StandardScaler\n",
    "from sklearn.exceptions import FitFailedWarning\n",
    "import sksurv.util\n",
    "import warnings\n",
    "\n",
    "from sksurv.preprocessing import OneHotEncoder\n",
    "\n",
    "\n",
    "df=pd.read_csv(\"../1_data/private/preprocessed_data.csv\")\n",
    "\n",
    "mask = (df['Visit_yr'] >= 2017) \n",
    "df = df.loc[mask]\n",
    "\n",
    "df_cox=df \n",
    "print(len(df))\n",
    "print(df['DonorID'].nunique())"
   ]
  },
  {
   "cell_type": "code",
   "execution_count": 13,
   "id": "32d66433",
   "metadata": {},
   "outputs": [
    {
     "name": "stdout",
     "output_type": "stream",
     "text": [
      "['DonorID', 'Visit_Date', 'Visit_yr', 'Visit_Mo', 'donation_time', 'don_Sequence', 'col_Int', 'Visit_Age', 'sex', 'Fixed', 'MobileID', 'donation_product_x', 'DonProc', 'Outcome', 'ABO_RH', 'Disease_marker_results', 'HB_Value', 'race_group', 'race', 'Ferritin', 'category', 'DefCode', 'Def_start', 'Def_end', 'Deferral_permanent', 'EffectiveYr', 'EffectiveMo', 'OUTCOME_TYPE', 'CENSORED', 'time_to_return', 'Fixed_mobile', 'FIXED_NEXT', 'fixed_mobile_pattern', 'index', 'donation_product_y', 'first_time']\n"
     ]
    }
   ],
   "source": [
    "print(list(df.columns))"
   ]
  },
  {
   "cell_type": "code",
   "execution_count": 14,
   "id": "d71a9492",
   "metadata": {},
   "outputs": [
    {
     "name": "stdout",
     "output_type": "stream",
     "text": [
      "['DonorID', 'Visit_Date', 'Visit_yr', 'Visit_Mo', 'donation_time', 'don_Sequence', 'col_Int', 'Visit_Age', 'Fixed', 'MobileID', 'donation_product_x', 'DonProc', 'Outcome', 'ABO_RH', 'Disease_marker_results', 'HB_Value', 'race_group', 'race', 'Ferritin', 'category', 'DefCode', 'Def_start', 'Def_end', 'Deferral_permanent', 'EffectiveYr', 'EffectiveMo', 'CENSORED', 'time_to_return', 'Fixed_mobile', 'FIXED_NEXT', 'fixed_mobile_pattern', 'index', 'donation_product_y', 'first_time', 'sex_F', 'sex_M', 'sex_nan', 'OUTCOME_TYPE_completed', 'OUTCOME_TYPE_low hgb', 'OUTCOME_TYPE_no draw', 'OUTCOME_TYPE_other deferral', 'OUTCOME_TYPE_nan']\n"
     ]
    }
   ],
   "source": [
    "# convert columns to categorical varibles\n",
    "cols = ['sex', 'OUTCOME_TYPE']\n",
    "df_cox[cols] = df_cox[cols].astype('category')\n",
    "\n",
    "df_cox = pd.get_dummies(df_cox, prefix=cols, dummy_na=True, columns = cols)\n",
    "\n",
    "print(list(df_cox.columns))\n",
    "\n",
    "# 'Visit_yr', 'Visit_Mo', 'race_group', 'Ferritin',  'HB_Value', 'donation_product',\n",
    "covariates = ['Visit_Age', 'sex_F', 'sex_M', 'Fixed_mobile', 'OUTCOME_TYPE_completed', 'OUTCOME_TYPE_low hgb', 'OUTCOME_TYPE_no draw', 'OUTCOME_TYPE_other deferral']\n",
    "\n",
    "#- so deferral period is a covariate\n",
    "#- deferral is a covariate\n",
    "#- index donation is a covarite (M,F) \n",
    "#- add one one column for idi\n",
    "\n",
    "\n"
   ]
  },
  {
   "cell_type": "code",
   "execution_count": 4,
   "id": "c943d7af",
   "metadata": {},
   "outputs": [
    {
     "name": "stdout",
     "output_type": "stream",
     "text": [
      "['DonorID', 'Visit_Date', 'Visit_yr', 'Visit_Mo', 'donation_time', 'don_Sequence', 'col_Int', 'Visit_Age', 'Fixed', 'MobileID', 'donation_product_x', 'DonProc', 'Outcome', 'ABO_RH', 'Disease_marker_results', 'HB_Value', 'race_group', 'race', 'Ferritin', 'category', 'DefCode', 'Def_start', 'Def_end', 'Deferral_permanent', 'EffectiveYr', 'EffectiveMo', 'CENSORED', 'time_to_return', 'Fixed_mobile', 'FIXED_NEXT', 'fixed_mobile_pattern', 'index', 'donation_product_y', 'first_time', 'sex_F', 'sex_M', 'sex_nan', 'OUTCOME_TYPE_completed', 'OUTCOME_TYPE_low hgb', 'OUTCOME_TYPE_no draw', 'OUTCOME_TYPE_other deferral', 'OUTCOME_TYPE_nan']\n"
     ]
    }
   ],
   "source": [
    "print(list(df_cox.columns))"
   ]
  },
  {
   "cell_type": "code",
   "execution_count": 5,
   "id": "1bcddb16",
   "metadata": {},
   "outputs": [],
   "source": [
    "#helper functions to make plots\n",
    "\n",
    "#a function to plot coefficients \n",
    "def plot_coef(coefs, n_highlight):\n",
    "    _, ax = plt.subplots(figsize=(9, 6))\n",
    "    n_features = coefs.shape[0]\n",
    "    alphas = coefs.columns\n",
    "    for row in coefs.itertuples():\n",
    "        ax.semilogx(alphas, row[1:], \".-\", label=row.Index)\n",
    "        \n",
    "    alpha_min = alphas.min()\n",
    "    top_coefs = coefs.loc[:, alpha_min].map(abs).sort_values().tail(n_highlight)\n",
    "    for name in top_coefs.index:\n",
    "        coef = coefs.loc[name, alpha_min]\n",
    "        plt.text(\n",
    "            alpha_min, coef, name + \"   \",\n",
    "            horizontalalignment=\"right\",\n",
    "            verticalalignment=\"center\"\n",
    "        )\n",
    "\n",
    "    ax.yaxis.set_label_position(\"right\")\n",
    "    ax.yaxis.tick_right()\n",
    "    ax.grid(True)\n",
    "    ax.set_xlabel(\"alpha\")\n",
    "    ax.set_ylabel(\"coefficient\")\n",
    "    \n",
    "#plot mean concordance index and std deviation for each alpa across all folds\n",
    "def plot_mean_concordance_index(alphas, mean, std, gridCV):\n",
    "    fig, ax = plt.subplots(figsize=(9, 6))\n",
    "    ax.plot(alphas, mean)\n",
    "    ax.fill_between(alphas, mean - std, mean + std, alpha=.15)\n",
    "    ax.set_xscale(\"log\")\n",
    "    ax.set_ylabel(\"concordance index\")\n",
    "    ax.set_xlabel(\"alpha\")\n",
    "    ax.axvline(gridCV.best_params_[\"coxnetsurvivalanalysis__alphas\"][0], c=\"C1\")\n",
    "    ax.axhline(0.5, color=\"grey\", linestyle=\"--\")\n",
    "    ax.grid(True)\n",
    "    \n",
    "#plot coefficients to be used\n",
    "def plot_coef_to_use(non_zero_coefs, coef_order):\n",
    "    _, ax = plt.subplots(figsize=(6, 8))\n",
    "    non_zero_coefs.loc[coef_order].plot.barh(ax=ax, legend=False)\n",
    "    ax.set_xlabel(\"coefficient\")\n",
    "    ax.grid(True)"
   ]
  },
  {
   "cell_type": "code",
   "execution_count": 6,
   "id": "724c8d29",
   "metadata": {},
   "outputs": [],
   "source": [
    "#helper function for feature selection\n",
    "\n",
    "def feature_selection(cox_lasso, X_train, Y_train):\n",
    "    \n",
    "    #generate and plot coeffecients to choose best aplha\n",
    "    coef_lasso = pd.DataFrame(\n",
    "        cox_lasso.coef_,\n",
    "        index=X_train.columns,\n",
    "        columns=np.round(cox_lasso.alphas_, 5)\n",
    "    )\n",
    "    \n",
    "    \n",
    "\n",
    "    plot_coef(coef_lasso, n_highlight=5)\n",
    "    \n",
    "    \n",
    "    #choosing the right aplha\n",
    "    pipe = make_pipeline(\n",
    "        StandardScaler(),\n",
    "        CoxnetSurvivalAnalysis(l1_ratio=0.9, alpha_min_ratio=0.01, max_iter=100)\n",
    "    )\n",
    "    warnings.simplefilter(\"ignore\", UserWarning)\n",
    "    warnings.simplefilter(\"ignore\", FitFailedWarning)\n",
    "    pipe.fit(X_train, Y_train)\n",
    "    \n",
    "    #performing 5 fold cross validation\n",
    "    estimated_alphas = pipe.named_steps[\"coxnetsurvivalanalysis\"].alphas_\n",
    "    cv = KFold(n_splits=5, shuffle=True, random_state=0)\n",
    "    gridCV = GridSearchCV(\n",
    "            make_pipeline(StandardScaler(), CoxnetSurvivalAnalysis(l1_ratio=0.9)),\n",
    "            param_grid={\"coxnetsurvivalanalysis__alphas\": [[v] for v in estimated_alphas]},\n",
    "            cv=cv,\n",
    "            error_score=0.5,\n",
    "            n_jobs=4).fit(X_train, Y_train)\n",
    "\n",
    "    results = pd.DataFrame(gridCV.cv_results_)\n",
    "    \n",
    "    #plot mean_concordance index\n",
    "    alphas = results.param_coxnetsurvivalanalysis__alphas.map(lambda x: x[0])\n",
    "    mean = results.mean_test_score\n",
    "    std = results.std_test_score\n",
    "    \n",
    "    plot_mean_concordance_index(alphas, mean, std, gridCV)\n",
    "    \n",
    "    #choose best model, \n",
    "    best_model = gridCV.best_estimator_.named_steps[\"coxnetsurvivalanalysis\"]\n",
    "    best_coefs = pd.DataFrame(\n",
    "        best_model.coef_,\n",
    "        index=X_train.columns,\n",
    "        columns=[\"coefficient\"]\n",
    "    )\n",
    "\n",
    "    #number of coefficients that are not zero\n",
    "    non_zero = np.sum(best_coefs.iloc[:, 0] != 0)\n",
    "    print(\"Number of non-zero coefficients: {}\".format(non_zero))\n",
    "\n",
    "    \n",
    "    #create a list of coefs to be used\n",
    "    non_zero_coefs = best_coefs.query(\"coefficient != 0\")\n",
    "    coef_order = non_zero_coefs.abs().sort_values(\"coefficient\").index\n",
    "    \n",
    "    #plot_coefficients to be used\n",
    "    plot_coef_to_use(non_zero_coefs, coef_order)\n",
    "    \n",
    "    return gridCV\n"
   ]
  },
  {
   "cell_type": "code",
   "execution_count": 7,
   "id": "459e0a12",
   "metadata": {},
   "outputs": [],
   "source": [
    "##df_cox.fillna(999, inplace=True)\n",
    "#df_cox.replace([np.inf, -np.inf], np.nan, inplace=True)\n"
   ]
  },
  {
   "cell_type": "code",
   "execution_count": 13,
   "id": "99559e6e",
   "metadata": {},
   "outputs": [
    {
     "data": {
      "text/plain": [
       "CoxPHSurvivalAnalysis()"
      ]
     },
     "execution_count": 13,
     "metadata": {},
     "output_type": "execute_result"
    }
   ],
   "source": [
    "#model fitting\n",
    "#df_cox_def = df_cox.query(\"DEF_TYPE == 'low hgb'\")\n",
    "#X = df_cox.loc[:, covariates]\n",
    "\n",
    "\n",
    "x_df=df_cox[['sex', 'OUTCOME_TYPE', \"Fixed_mobile\", 'race_group']].astype('category')\n",
    "\n",
    "X = OneHotEncoder().fit_transform(x_df)\n",
    "X.head()\n",
    "\n",
    "#X= df_cox.reindex(columns=covariates)\n",
    "\n",
    "   #Structured array\n",
    "Y= sksurv.util.Surv.from_dataframe('CENSORED', 'time_to_return', df_cox)\n",
    "\n",
    "X_train, X_test, Y_train, Y_test = train_test_split(X, Y, test_size=0.90, random_state=42)\n",
    "\n",
    "#fit the model\n",
    "#cox_lasso = CoxnetSurvivalAnalysis(l1_ratio=1.0, alpha_min_ratio=0.01)\n",
    "cox_lasso = CoxPHSurvivalAnalysis()\n",
    "cox_lasso.fit(X_train, Y_train)\n",
    "\n",
    "\n"
   ]
  },
  {
   "cell_type": "code",
   "execution_count": 14,
   "id": "ba1bbe0f",
   "metadata": {},
   "outputs": [
    {
     "name": "stdout",
     "output_type": "stream",
     "text": [
      "sex=M                          0.157304\n",
      "OUTCOME_TYPE=low hgb          -0.439231\n",
      "OUTCOME_TYPE=no draw          -0.175705\n",
      "OUTCOME_TYPE=other deferral   -0.267083\n",
      "Fixed_mobile=1                 0.468717\n",
      "race_group=2                  -0.078720\n",
      "race_group=3                  -0.014800\n",
      "race_group=4                  -0.019882\n",
      "race_group=1                  -0.165779\n",
      "race_group=2                  -0.366405\n",
      "race_group=3                  -0.183603\n",
      "race_group=4                  -0.287973\n",
      "race_group=U                  -0.337439\n",
      "dtype: float64\n"
     ]
    }
   ],
   "source": [
    "print(pd.Series(cox_lasso.coef_, index=X_train.columns))\n",
    "#cox_lasso.coef_\n"
   ]
  },
  {
   "cell_type": "code",
   "execution_count": null,
   "id": "7cf95a83",
   "metadata": {},
   "outputs": [],
   "source": [
    "gcv = feature_selection(cox_lasso, X_train, Y_train)\n"
   ]
  },
  {
   "cell_type": "code",
   "execution_count": null,
   "id": "b9b20e02",
   "metadata": {},
   "outputs": [],
   "source": [
    "#prediction\n",
    "\n",
    "#fit test set to perfrom prediction of hazard function and survival function\n",
    "coxnet_pred = make_pipeline(\n",
    "    StandardScaler(),\n",
    "    CoxnetSurvivalAnalysis(l1_ratio=0.9, fit_baseline_model=True)\n",
    ")\n",
    "coxnet_pred.set_params(**gcv.best_params_)\n",
    "coxnet_pred.fit(X_test, Y_test)\n",
    "\n",
    "surv_fns = coxnet_pred.predict_survival_function(X_test)\n"
   ]
  },
  {
   "cell_type": "code",
   "execution_count": null,
   "id": "ca274eff",
   "metadata": {},
   "outputs": [],
   "source": []
  },
  {
   "cell_type": "code",
   "execution_count": null,
   "id": "98b9f353",
   "metadata": {},
   "outputs": [],
   "source": []
  }
 ],
 "metadata": {
  "kernelspec": {
   "display_name": "Python 3",
   "language": "python",
   "name": "python3"
  },
  "language_info": {
   "codemirror_mode": {
    "name": "ipython",
    "version": 3
   },
   "file_extension": ".py",
   "mimetype": "text/x-python",
   "name": "python",
   "nbconvert_exporter": "python",
   "pygments_lexer": "ipython3",
   "version": "3.8.8"
  },
  "vscode": {
   "interpreter": {
    "hash": "5ceecb7da2aafc3df56a72e3d5d21f12f2307c7cf9b9b8f49c6cfc619e649209"
   }
  }
 },
 "nbformat": 4,
 "nbformat_minor": 5
}
