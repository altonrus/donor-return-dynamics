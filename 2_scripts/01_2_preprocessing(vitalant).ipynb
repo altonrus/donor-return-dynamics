{
 "cells": [
  {
   "cell_type": "code",
   "execution_count": 1,
   "id": "4fcbce30-129a-4b21-9224-fe843f85de44",
   "metadata": {},
   "outputs": [],
   "source": [
    "import pyreadstat\n",
    "import pandas as pd\n",
    "import numpy as np\n",
    "import datetime as dt\n",
    "from datetime import timedelta\n",
    "\n",
    "import matplotlib.pyplot as plt\n",
    "import seaborn as sns\n",
    "import warnings\n",
    "\n",
    "warnings.filterwarnings('ignore')"
   ]
  },
  {
   "cell_type": "code",
   "execution_count": 2,
   "id": "eb5c58fd-11b9-42e5-ad80-afb57b3cafd1",
   "metadata": {},
   "outputs": [],
   "source": [
    "# a function to compute deferral rates and make a 2X2 table\n",
    "\n",
    "def make_table(df):\n",
    "    first=df.query(\"first_time == 1\")\n",
    "    repeat=df.query(\"first_time == 0\")\n",
    "    print(len(repeat))\n",
    "    \n",
    "    #create a dict\n",
    "    table={}\n",
    "    table['-']=['Female', 'Male', 'All']\n",
    "\n",
    "        #first time\n",
    "    female=(len(first.loc[(first.DONOR_GENDER == 'F') & (first.OUTCOME_TYPE=='low hgb')])/len(first.loc[(first.DONOR_GENDER == 'F')]))*100\n",
    "    male=(len(first.loc[(first.DONOR_GENDER == 'M') & (first.OUTCOME_TYPE=='low hgb')])/len(first.loc[(first.DONOR_GENDER == 'M')]))*100\n",
    "    alls=(len(first.loc[(first.OUTCOME_TYPE=='low hgb')])/len(first))*100\n",
    "    table['First Time']=[female, male, alls]\n",
    "\n",
    "        #repeat\n",
    "    female=(len(repeat.loc[(repeat.DONOR_GENDER == 'F') & (repeat.OUTCOME_TYPE=='low hgb')])/len(repeat.loc[(repeat.DONOR_GENDER == 'F')]))*100\n",
    "    male=(len(repeat.loc[(repeat.DONOR_GENDER == 'M') & (repeat.OUTCOME_TYPE=='low hgb')])/len(repeat.loc[(repeat.DONOR_GENDER == 'M')]))*100\n",
    "    alls=(len(repeat.loc[(repeat.OUTCOME_TYPE=='low hgb')])/len(repeat))*100\n",
    "    table['Repeat']=[female, male, alls]\n",
    "    \n",
    "    print(len(repeat.loc[(repeat.DONOR_GENDER == 'M')]))\n",
    "    \n",
    "        #all \n",
    "    female=(len(df.loc[(df.DONOR_GENDER == 'F') & (df.OUTCOME_TYPE=='low hgb')])/len(df.loc[(df.DONOR_GENDER == 'F')]))*100\n",
    "    male=(len(df.loc[(df.DONOR_GENDER == 'M') & (df.OUTCOME_TYPE=='low hgb')])/len(df.loc[(df.DONOR_GENDER == 'M')]))*100\n",
    "    alls=(len(df.loc[(df.OUTCOME_TYPE=='low hgb')])/len(df))*100\n",
    "    table['All']=[female, male, alls]\n",
    "    table=pd.DataFrame(table)\n",
    "    \n",
    "    return table\n",
    "    \n"
   ]
  },
  {
   "cell_type": "code",
   "execution_count": 3,
   "id": "abb58bfe-27c5-4f5a-9ce1-8c54a51c8ba8",
   "metadata": {},
   "outputs": [],
   "source": [
    "df=pd.read_csv(\"../1_data/private/VitalantData.csv\") #load merged data"
   ]
  },
  {
   "cell_type": "code",
   "execution_count": 4,
   "id": "254521a8-1c64-46ff-89d8-cf68d565dc4a",
   "metadata": {},
   "outputs": [
    {
     "name": "stdout",
     "output_type": "stream",
     "text": [
      "4640364\n",
      "2063360\n",
      "        -  First Time    Repeat       All\n",
      "0  Female    6.697233  7.856918  7.620287\n",
      "1    Male    0.800060  1.938004  1.727404\n",
      "2     All    4.250087  5.225043  5.034224\n"
     ]
    },
    {
     "data": {
      "text/plain": [
       "low hgb    290454\n",
       "Name: OUTCOME_TYPE, dtype: int64"
      ]
     },
     "execution_count": 4,
     "metadata": {},
     "output_type": "execute_result"
    }
   ],
   "source": [
    "#using only donations table linked to med_quest for hgb values\n",
    "\n",
    "df['first_time']=np.where(df.ACTIVE_DONOR_TYPE=='First Time', 1,0) #add first time col\n",
    "\n",
    "#check if hgb value is below threshold\n",
    "df.loc[(df['HGB_value']<13.0) & (df['DONOR_GENDER'] == \"M\"), 'OUTCOME_TYPE'] = 'low hgb'\n",
    "df.loc[(df['HGB_value']<12.5) & (df['DONOR_GENDER'] == \"F\"), 'OUTCOME_TYPE'] = 'low hgb'\n",
    "\n",
    "#make table\n",
    "table=make_table(df)\n",
    "print(table)\n",
    "df['OUTCOME_TYPE'].value_counts()\n"
   ]
  },
  {
   "cell_type": "code",
   "execution_count": 5,
   "id": "f76f6e8b-b47c-4336-89df-af63ee089922",
   "metadata": {},
   "outputs": [
    {
     "data": {
      "text/plain": [
       "Active        4069442\n",
       "First Time    1129224\n",
       "Reengaged      570922\n",
       "Name: ACTIVE_DONOR_TYPE, dtype: int64"
      ]
     },
     "execution_count": 5,
     "metadata": {},
     "output_type": "execute_result"
    }
   ],
   "source": [
    "df.ACTIVE_DONOR_TYPE.value_counts()"
   ]
  },
  {
   "cell_type": "code",
   "execution_count": 6,
   "id": "3248fe18-9d72-483e-86cb-59135d963b21",
   "metadata": {
    "scrolled": true,
    "tags": []
   },
   "outputs": [
    {
     "data": {
      "text/plain": [
       "81486"
      ]
     },
     "execution_count": 6,
     "metadata": {},
     "output_type": "execute_result"
    }
   ],
   "source": [
    "def_columns=['DEFERRAL_EVENT', 'DEFERRAL_INFORMATION',\n",
    "       'DEFERRAL_CREATE_DATE', 'DEFERRAL_START_DATE', 'DEFERRAL_STOP_DATE',\n",
    "       'DEF_INVALDATION_DATE', 'DEFERRAL', 'DEFERRAL_DESCRIPTION',\n",
    "       'DEFERRAL_VALID_CODE', 'DEFERRAL_DURATION', 'DURATION_MODIF_TYPE',\n",
    "       'ALLOW_DISTRIBUTION', 'DEFERRAL_GROUP']\n",
    "\n",
    "df['def_isna']=df[def_columns].isnull().apply(lambda x: all(x), axis=1) \n",
    "\n",
    "len(df.loc[(df.OUTCOME_TYPE=='low hgb') & (df.def_isna==True)]) #no deferral info"
   ]
  },
  {
   "cell_type": "code",
   "execution_count": 7,
   "id": "8d6df984-c22d-414c-9cc5-0bed374cfaa3",
   "metadata": {},
   "outputs": [],
   "source": [
    "# check donations with mutiple deferrals\n",
    "#keep one with longest deferral period\n",
    "\n",
    "df[\"Visit_Date\"] = pd.to_datetime(df['DON_DATE_KEY'], format='%Y%m%d') #convert to datetime object\n",
    "df['DEFERRAL_STOP_DATE'] = pd.to_datetime(df['DEFERRAL_STOP_DATE'], errors='coerce')\n",
    "\n",
    "# Sort the DataFrame by 'key' and 'date' in descending order\n",
    "df = df.sort_values(by=['DONOR_KEY', 'DON_DATE_KEY', 'DEFERRAL_STOP_DATE'], ascending=[True, True, False])\n",
    "\n",
    "df = df.drop_duplicates(subset=['DONOR_KEY', 'DON_DATE_KEY'], keep='first')\n"
   ]
  },
  {
   "cell_type": "code",
   "execution_count": 8,
   "id": "d6966fcf-b7d0-4106-9cab-f59cf3e59def",
   "metadata": {},
   "outputs": [
    {
     "data": {
      "text/plain": [
       "low hgb           283974\n",
       "other deferral      2207\n",
       "Name: OUTCOME_TYPE, dtype: int64"
      ]
     },
     "execution_count": 8,
     "metadata": {},
     "output_type": "execute_result"
    }
   ],
   "source": [
    "#deferrals where low hgbval and def group dont agree\n",
    "df['OUTCOME_TYPE']=np.where((df.OUTCOME_TYPE=='low hgb') & (df.def_isna==False) & (df.DEFERRAL_GROUP!='Low Hemoglobin'), 'other deferral', df.OUTCOME_TYPE)\n",
    "df.drop(df[(df.OUTCOME_TYPE=='low hgb') & (df.PHLEBOTOMY_STATUS=='Successful Phlebotomy')].index, inplace =True)#drop\n",
    "df.OUTCOME_TYPE.value_counts()"
   ]
  },
  {
   "cell_type": "code",
   "execution_count": 9,
   "id": "2e214413-55e6-4733-a956-7c735331af12",
   "metadata": {},
   "outputs": [
    {
     "data": {
      "text/plain": [
       "completed         4735203\n",
       "No Draw            428228\n",
       "low hgb            283974\n",
       "other deferral     265821\n",
       "Name: OUTCOME_TYPE, dtype: int64"
      ]
     },
     "execution_count": 9,
     "metadata": {},
     "output_type": "execute_result"
    }
   ],
   "source": [
    "#classify visits into completed and other deferrals\n",
    "\n",
    "df['OUTCOME_TYPE'] = np.where((df.PHLEBOTOMY_STATUS=='Successful Phlebotomy'), 'completed', df.OUTCOME_TYPE)\n",
    "\n",
    "df['OUTCOME_TYPE']= np.where((df['OUTCOME_TYPE'].isna()) & (df.def_isna==False), 'other deferral', df.OUTCOME_TYPE)\n",
    "\n",
    "df['OUTCOME_TYPE'].fillna(\"No Draw\", inplace=True)\n",
    "\n",
    "df.OUTCOME_TYPE.value_counts()"
   ]
  },
  {
   "cell_type": "code",
   "execution_count": 10,
   "id": "e4a57b77-8ee2-4909-b97a-2d4c1721b1b5",
   "metadata": {},
   "outputs": [],
   "source": [
    "#add censoring \n",
    "\n",
    "df.sort_values(by=['DONOR_KEY', 'DON_DATE_KEY'], axis = 0, inplace=True) #check all vists are sorted\n",
    "\n",
    "#add CENSORED column (indicates whether row is right censored) 0-censored, 1-notcensored (does not make sense but is consistent with rest of code)\n",
    "df['CENSORED']=np.where(df['DONOR_KEY'] == df['DONOR_KEY'].shift(-1), 1, 0)\n",
    "\n",
    "#add time_to_return column (time between visits)\n",
    "#if return exists -> difference between visit dates\n",
    "#else difference between visit date and end of data collection 2022-10-31\n",
    "\n",
    "df[\"Visit_Date\"] = pd.to_datetime(df['DON_DATE_KEY'], format='%Y%m%d') #convert to datetime object\n",
    "\n",
    "df['time_to_return']= np.where(df['CENSORED']==1, (df['Visit_Date'].shift(-1)-df['Visit_Date'])/np.timedelta64(1, 'D'), (dt.datetime(2022, 10, 31)-df[\"Visit_Date\"])/np.timedelta64(1, 'D'))\n"
   ]
  },
  {
   "cell_type": "code",
   "execution_count": 11,
   "id": "ad46555d-c123-42f1-adf8-54cd7c32b27b",
   "metadata": {},
   "outputs": [
    {
     "data": {
      "image/png": "[encoded data removed]",
      "text/plain": [
       "<Figure size 576x432 with 1 Axes>"
      ]
     },
     "metadata": {
      "needs_background": "light"
     },
     "output_type": "display_data"
    },
    {
     "name": "stdout",
     "output_type": "stream",
     "text": [
      "0\n"
     ]
    }
   ],
   "source": [
    "# Create a boxplot to see distribution of return times\n",
    "plt.figure(figsize=(8, 6))\n",
    "plt.boxplot([df[df['OUTCOME_TYPE'] == 'completed']['time_to_return'],\n",
    "             df[df['OUTCOME_TYPE'] == 'low hgb']['time_to_return']],\n",
    "            labels=['completed', 'low hgb'])\n",
    "\n",
    "plt.xlabel('Category')\n",
    "plt.ylabel('Return Time')\n",
    "plt.title('Distribution of Return Times')\n",
    "plt.show()\n",
    "\n",
    "df_end=df.loc[df['time_to_return'] <0]\n",
    "print(len(df_end))"
   ]
  },
  {
   "cell_type": "code",
   "execution_count": 12,
   "id": "5ca57301-ca3f-4d0e-9699-adb009828caa",
   "metadata": {},
   "outputs": [],
   "source": [
    "\n",
    "\n",
    "df['DEFERRAL_STOP_DATE'] = pd.to_datetime(df['DEFERRAL_STOP_DATE'], errors='coerce')\n",
    "df['DEFERRAL_START_DATE'] = pd.to_datetime(df['DEFERRAL_START_DATE'],  errors='coerce')\n",
    "\n",
    "df['def_Year'] = df['DEFERRAL_STOP_DATE'].dt.year \n",
    "\n",
    "df['DEF_PERIOD']=(df['DEFERRAL_STOP_DATE'] - df['DEFERRAL_START_DATE'])/np.timedelta64(1, 'D')\n",
    "\n",
    "#permanent deferrals: drop\n",
    "df.drop(df[df['def_Year']>=2032].index, inplace=True)\n",
    "df.drop(df[df['DEFERRAL_DURATION']==99999.0].index, inplace=True)\n",
    "\n",
    "df.fillna(0, inplace=True)\n",
    "\n"
   ]
  },
  {
   "cell_type": "code",
   "execution_count": 13,
   "id": "1cb3aa79-08fd-4446-b651-8640fedb832d",
   "metadata": {},
   "outputs": [],
   "source": [
    "#compute time_to_return with shifts for completed donation: subtract 56 days \n",
    "df['time_to_return_wo'] = df['time_to_return']\n",
    "df['time_to_return'] = np.where((df['OUTCOME_TYPE'] == 'completed'), (df['time_to_return_wo'] - 56), df['time_to_return'])\n",
    "\n",
    "#time for hgb deferrals (-1)\n",
    "df['time_to_return'] = np.where((df['OUTCOME_TYPE'] == 'low hgb'), (df['time_to_return_wo'] - 1), df['time_to_return'])\n",
    "\n",
    "#time for other deferrals (-def period)\n",
    "df['time_to_return'] = np.where((df['OUTCOME_TYPE'] == 'other deferral') & (df['def_Year'] < 2023), (df['time_to_return_wo'] - df['DEF_PERIOD']), df['time_to_return'])\n",
    "df['time_to_return'].isna().sum()\n",
    "\n",
    "#df['time_to_return']=np.where((df['time_to_return'] < 0) & (df.OUTCOME_TYPE=='completed') , df['time_to_return_wo'], df['time_to_return'])\n",
    "\n",
    "#drop individuals who returned before end of eligibility period\n",
    "df.drop(df[(df.time_to_return<0)].index, inplace =True)\n"
   ]
  },
  {
   "cell_type": "code",
   "execution_count": 14,
   "id": "336cac02-df6f-4515-960f-b1034e007c03",
   "metadata": {},
   "outputs": [
    {
     "data": {
      "image/png": "[encoded data removed]",
      "text/plain": [
       "<Figure size 576x432 with 1 Axes>"
      ]
     },
     "metadata": {
      "needs_background": "light"
     },
     "output_type": "display_data"
    },
    {
     "name": "stdout",
     "output_type": "stream",
     "text": [
      "0\n"
     ]
    }
   ],
   "source": [
    "# Create a boxplot\n",
    "plt.figure(figsize=(8, 6))\n",
    "plt.boxplot([df[df['OUTCOME_TYPE'] == 'completed']['time_to_return'],\n",
    "             df[df['OUTCOME_TYPE'] == 'low hgb']['time_to_return']],\n",
    "            labels=['completed', 'low hgb'])\n",
    "\n",
    "plt.xlabel('Category')\n",
    "plt.ylabel('Return Time')\n",
    "plt.title('Distribution of Return Times')\n",
    "plt.show()\n",
    "\n",
    "df_end=df.loc[df['time_to_return'] <0]\n",
    "pd.set_option('display.max_columns', 100)\n",
    "print(len(df_end))\n"
   ]
  },
  {
   "cell_type": "code",
   "execution_count": 15,
   "id": "1b8943a7-af1a-4c11-8bb0-31a12ce635fe",
   "metadata": {},
   "outputs": [],
   "source": [
    "df.drop(df.loc[df.DRIVE_TYPE_FIXED_MOBILE=='UNKNOWN'].index, inplace =True)#drop"
   ]
  },
  {
   "cell_type": "code",
   "execution_count": 16,
   "id": "bda18e54-f506-40e6-80ce-21dc045cde62",
   "metadata": {},
   "outputs": [
    {
     "data": {
      "image/png": "[encoded data removed]",
      "text/plain": [
       "<Figure size 432x288 with 1 Axes>"
      ]
     },
     "metadata": {
      "needs_background": "light"
     },
     "output_type": "display_data"
    }
   ],
   "source": [
    "#Fixed-Mobile Donations Analysis\n",
    "\n",
    "#plot number - mobile=0, fixed=1\n",
    "\n",
    "sns.histplot(df, x=\"DRIVE_TYPE_FIXED_MOBILE\", stat=\"probability\")\n",
    "\n",
    "df['Fixed_mobile'] = np.where(df[\"DRIVE_TYPE_FIXED_MOBILE\"] == 'Fixed', 1, 0) #mobile is 0, fixed is 1\n",
    "#sns.histplot(df, x=\"Fixed_mobile\", stat=\"probability\")\n",
    "\n",
    "#create a column to indicate \n",
    "    #1. mobile then mobile - mm\n",
    "    #2. mobile then fixed -mf\n",
    "    #3. fixed then fixed - ff\n",
    "    #4. fixed then mobile - fm\n",
    "\n",
    "df[\"FIXED_NEXT\"] = np.where((df['DONOR_KEY'] == df['DONOR_KEY'].shift(-1)), df['Fixed_mobile'].shift(-1), 10)\n",
    "df.loc[((df['FIXED_NEXT']== 1) & (df['Fixed_mobile']== 1)), 'fixed_mobile_pattern'] = 'FF'\n",
    "\n",
    "df.loc[((df['FIXED_NEXT']==0) & (df['Fixed_mobile']== 0)), 'fixed_mobile_pattern']= 'MM'\n",
    "\n",
    "df.loc[((df['FIXED_NEXT']==0) & (df['Fixed_mobile']== 1)), 'fixed_mobile_pattern'] = 'FM'\n",
    "\n",
    "df.loc[((df['FIXED_NEXT']==1) & (df['Fixed_mobile']== 0)), 'fixed_mobile_pattern']= 'MF'\n",
    "df['fixed_mobile_pattern'].fillna('last', inplace=True)\n",
    "\n",
    "#define competeing events\n",
    "# competing events are - return to mobile, return to fixed\n",
    "df['competing_events'] = np.where((df['fixed_mobile_pattern']==\"MF\")|(df['fixed_mobile_pattern']==\"FF\"), 1, 2)\n",
    "df['competing_events'] = np.where((df['fixed_mobile_pattern']==\"last\"), 0, df['competing_events'])"
   ]
  },
  {
   "cell_type": "code",
   "execution_count": 17,
   "id": "e1ebf3b8-356f-4d75-a718-dba944e6ac2f",
   "metadata": {},
   "outputs": [
    {
     "data": {
      "image/png": "[encoded data removed]",
      "text/plain": [
       "<Figure size 432x288 with 1 Axes>"
      ]
     },
     "metadata": {
      "needs_background": "light"
     },
     "output_type": "display_data"
    },
    {
     "name": "stdout",
     "output_type": "stream",
     "text": [
      "0.05813837106416765\n",
      "0.04633264209735292\n",
      "0.43069571085831737\n",
      "0.5693042891416826\n"
     ]
    }
   ],
   "source": [
    "#Plot fixed pattern\n",
    "df2 = df[df['fixed_mobile_pattern'] != 'last']\n",
    "plt.figure()\n",
    "g=sns.histplot(df2, x=df2[\"fixed_mobile_pattern\"], stat=\"probability\")\n",
    "#plt.legend(title='Fixed-Mobile Pattern', loc='upper left', labels=['Hell Yeh', 'Nah Bruh'])\n",
    "plt.xlabel('Fixed-Mobile Pattern')\n",
    "plt.show(g)\n",
    "\n",
    "# the % of each resulting in hemoglobin deferral or other deferral\n",
    "\n",
    "print(len(df.loc[((df['OUTCOME_TYPE']==\"low hgb\") & (df['Fixed_mobile']== 1))])/len(df.loc[(df['Fixed_mobile']==1)]))\n",
    "print(len(df.loc[((df['OUTCOME_TYPE']==\"low hgb\") & (df['Fixed_mobile']== 0))])/len(df.loc[(df['Fixed_mobile']==0)]))\n",
    "\n",
    "print(len(df.loc[(df['Fixed_mobile']==1)])/len(df))\n",
    "print(len(df.loc[(df['Fixed_mobile']==0)])/len(df))\n"
   ]
  },
  {
   "cell_type": "code",
   "execution_count": 18,
   "id": "0f4b0072-394a-4c70-b3a1-e5a062583b21",
   "metadata": {},
   "outputs": [],
   "source": [
    "#check if donor return to the same mobile ID\n",
    "\n",
    "#for fixed only, for mobile only and overall\n",
    "\n",
    "df.loc[(df.Fixed_mobile==0) & (df['COLLECTION_SITE_KEY'] == df['COLLECTION_SITE_KEY'].shift(-1)), 'return_to_same_ID_by_dn']= 'mm' #for mobile only\n",
    "df.loc[(df.Fixed_mobile==1) & (df['COLLECTION_SITE_KEY'] == df['COLLECTION_SITE_KEY'].shift(-1)), 'return_to_same_ID_by_dn']= 'ff' #for fixed only\n",
    "df.loc[(df['COLLECTION_SITE_KEY'] == df['COLLECTION_SITE_KEY'].shift(-1)), 'return_to_same_ID']= 1 #overall\n"
   ]
  },
  {
   "cell_type": "code",
   "execution_count": 19,
   "id": "e6439c97-1ef3-47f7-8b8d-f96ecf32f9d3",
   "metadata": {},
   "outputs": [],
   "source": [
    "\n",
    "#Categorize donor birth country\n",
    "df['DONOR_BORN_IN_US'] = np.where(df['DONOR_COUNTRY_OF_BIRTH']=='UNITED STATES (INCLUDING HAWAII)', 1, 0)\n",
    "\n",
    "#Born in north america / mexico / india / china - look into counts\n",
    "\n",
    "#categorise donor education into - post secondary, secondary (high school), or less than secondary or refused \n",
    "\n",
    "df.loc[(df['DONOR_EDUCATION_DESC']=='SOME COLLEGE OR TECHNICAL SCHOOL' )| (df['DONOR_EDUCATION_DESC']==\"BACHELOR'S DEGREE\")| \n",
    "      (df['DONOR_EDUCATION_DESC']==\"MASTER'S OR PROFESSIONAL DEGREE\")| (df['DONOR_EDUCATION_DESC']==\"ASSOCIATE'S DEGREE\")|  \n",
    "       (df['DONOR_EDUCATION_DESC']==\"GRADUATE DEGREE, MASTER'S\")|(df['DONOR_EDUCATION_DESC']==\"GRADUATE DEGREE, DOCTORATE\")|\n",
    "      (df['DONOR_EDUCATION_DESC']==\"GRADUATE DEGREE, PROFESSIONAL\")| (df['DONOR_EDUCATION_DESC']==\"GRADUATE DEGREE, OTHER\"),\n",
    "       'DONOR_EDU2']='Post_Secondary'\n",
    "\n",
    "df.loc[(df['DONOR_EDUCATION_DESC']=='HIGH SCHOOL GRAD-DIPLOMA OR EQUIV')| (df['DONOR_EDUCATION_DESC']==\n",
    "        'HIGH SCHOOL GRADUATE OR EQUIVALENT'),'DONOR_EDU2']='Secondary_High_School'\n",
    "\n",
    "df.loc[(df['DONOR_EDUCATION_DESC']=='9th,10th,11th,12th GRADE-NO DIPLOMA' )| (df['DONOR_EDUCATION_DESC']=='8th GRADE OR LESS' )|\n",
    "      (df['DONOR_EDUCATION_DESC']=='9TH, 10TH, 11TH, OR 12TH (NO DIPLOMA)' )| (df['DONOR_EDUCATION_DESC']=='8TH GRADE OR LESS'), 'DONOR_EDU2']='Less_than_secondary'\n",
    "\n",
    "df.loc[(df['DONOR_EDUCATION_DESC']=='REFUSED') | (df['DONOR_EDUCATION_DESC']=='UNAVAILABLE' )| (df['DONOR_EDUCATION_DESC']=='UNKNOWN') |  (df['DONOR_EDUCATION_DESC']=='NOT AVAILABLE'), 'DONOR_EDU2']='UNAVAILABLE'\n",
    "\n",
    "df['DONOR_EDU']=np.where(df.DONOR_AGE_AT_DONATION<=18, 'Currently in High School', df['DONOR_EDU2'])"
   ]
  },
  {
   "cell_type": "code",
   "execution_count": 20,
   "id": "df062cf8-6b4b-40ee-a5f4-5bb4b388b7cd",
   "metadata": {},
   "outputs": [],
   "source": [
    "#recode race\n",
    "df.loc[df['RACE_ETHNICITY'] == 'White, NH', 'RACE_ETHNICITY'] = 'White'\n",
    "df.loc[df['RACE_ETHNICITY'] == 'Black, NH', 'RACE_ETHNICITY'] = 'Black'\n",
    "df.loc[df['RACE_ETHNICITY'] == 'Asian/Pacific Islander, NH', 'RACE_ETHNICITY'] = 'Asian'\n",
    "df.loc[df['RACE_ETHNICITY'] == 'Native American/Alaskan, NH', 'RACE_ETHNICITY'] = 'Native_American'\n",
    "df.loc[df['RACE_ETHNICITY'] == 'Other/Mixed, NH', 'RACE_ETHNICITY'] = 'Mixed_Other'\n",
    "df.loc[df['RACE_ETHNICITY'] == 0, 'RACE_ETHNICITY'] = 'UNKNOWN'\n",
    "df.loc[df['RACE_ETHNICITY'] == 'Missing/Unknown/Refused', 'RACE_ETHNICITY'] = 'UNKNOWN'"
   ]
  },
  {
   "cell_type": "code",
   "execution_count": 21,
   "id": "61d60438-618d-4e22-ad14-8136d164c54f",
   "metadata": {},
   "outputs": [],
   "source": [
    "#recode AbO_RH\n",
    "\n",
    "df.loc[df['DONOR_ABORH'] == 'UNKNOWN', 'DONOR_ABORH'] = 'UNK'\n",
    "df.loc[df['DONOR_ABORH'] == 'A -', 'DONOR_ABORH'] = 'Aneg'\n",
    "df.loc[df['DONOR_ABORH'] == 'A +', 'DONOR_ABORH'] = 'Apos'\n",
    "df.loc[df['DONOR_ABORH'] == 'B -', 'DONOR_ABORH'] = 'Bneg'\n",
    "df.loc[df['DONOR_ABORH'] == 'B +', 'DONOR_ABORH'] = 'Bpos'\n",
    "df.loc[df['DONOR_ABORH'] == 'O -', 'DONOR_ABORH'] = 'Oneg'\n",
    "df.loc[df['DONOR_ABORH'] == 'O +', 'DONOR_ABORH'] = 'Opos'\n",
    "df.loc[df['DONOR_ABORH'] == 'AB-', 'DONOR_ABORH'] = 'ABneg'\n",
    "df.loc[df['DONOR_ABORH'] == 'AB+', 'DONOR_ABORH'] = 'ABpos'"
   ]
  },
  {
   "cell_type": "code",
   "execution_count": 22,
   "id": "c39ee4ab-d022-44f1-a091-62bd378a6f31",
   "metadata": {},
   "outputs": [],
   "source": [
    "# add oppurtunities to donate in next 12 months - computed in 00_mobileID.ipynb and saved in csv file, mID_table\n",
    "df_mID=pd.read_csv(\"../1_data/private/mID_table_V.csv\")\n",
    "\n",
    "df_mID[\"Visit_Date\"] = df_mID[\"Visit_Date\"].astype(\"datetime64\") #convert to date time object\n",
    "\n",
    "df['MobileID']=df['COLLECTION_SITE_KEY']\n",
    "\n",
    "df=pd.merge(df, df_mID[['MobileID', 'Visit_Date', 'count_in_next_12_months']], how='left', on=[\"MobileID\", \"Visit_Date\"])\n"
   ]
  },
  {
   "cell_type": "code",
   "execution_count": 23,
   "id": "d0de89bc-1fcb-47bc-b5af-3e81d261e900",
   "metadata": {},
   "outputs": [
    {
     "data": {
      "text/plain": [
       "12_more      2800129\n",
       "7_12          211535\n",
       "3_6            98819\n",
       "Annual         14590\n",
       "Bi_Annual      13357\n",
       "Name: Opp_to_donate, dtype: int64"
      ]
     },
     "execution_count": 23,
     "metadata": {},
     "output_type": "execute_result"
    }
   ],
   "source": [
    "df.loc[df.count_in_next_12_months==1, 'Opp_to_donate']=\"Annual\"\n",
    "df.loc[df.count_in_next_12_months==2, 'Opp_to_donate']=\"Bi_Annual\"\n",
    "df.loc[(df.count_in_next_12_months>=3) & (df.count_in_next_12_months<=6), 'Opp_to_donate']=\"3_6\"\n",
    "df.loc[(df.count_in_next_12_months>6) & (df.count_in_next_12_months<=12), 'Opp_to_donate']=\"7_12\"\n",
    "df.loc[(df.count_in_next_12_months>12), 'Opp_to_donate']=\"12_more\"\n",
    "df.Opp_to_donate.value_counts()"
   ]
  },
  {
   "cell_type": "code",
   "execution_count": 30,
   "id": "80af5192-ee7d-4c71-b01e-d3270d46425e",
   "metadata": {},
   "outputs": [],
   "source": [
    "df = df.sort_values(by=['DonorID', 'Visit_Date'])\n",
    "df['TimeSinceFirstDonation'] = df.groupby('DonorID')['Visit_Date'].diff().dt.days"
   ]
  },
  {
   "cell_type": "code",
   "execution_count": 31,
   "id": "bf17cc00-5750-47e7-b2cb-c4aa429c0a60",
   "metadata": {},
   "outputs": [],
   "source": [
    "# Identify the first-time donors who received a hemoglobin deferral #within a year\n",
    "first_time_comp = df.loc[(df['first_time']==1)]\n",
    "#  keep only the first-time donors and their subsequent donations\n",
    "filtered_df = df.loc[df['DonorID'].isin(first_time_comp['DonorID'])]\n",
    "filtered_df = filtered_df[filtered_df['TimeSinceFirstDonation'] <= 365]\n",
    "grouped_filtered_df=filtered_df.groupby('DonorID')[\"OUTCOME_TYPE\"].apply(list)\n",
    "grouped_filtered_df= pd.DataFrame({'DonorID': grouped_filtered_df.index, 'Outcomes': grouped_filtered_df.values})\n",
    "grouped_filtered_df['Outcomes'] = grouped_filtered_df['Outcomes'].apply(tuple)\n",
    "# Split the list column into multiple columns\n",
    "grouped_filtered_df= grouped_filtered_df['Outcomes'].apply(pd.Series)\n"
   ]
  },
  {
   "cell_type": "code",
   "execution_count": 34,
   "id": "4f635dbe-2d8b-44e3-8bba-0369a850197d",
   "metadata": {},
   "outputs": [
    {
     "name": "stdout",
     "output_type": "stream",
     "text": [
      "0.638981864134704\n",
      "0.44041867954911434\n",
      "0.5242067386326464\n"
     ]
    }
   ],
   "source": [
    "group_df2=grouped_filtered_df\n",
    "\n",
    "comp=group_df2.loc[group_df2[0]=='completed']\n",
    "hgb=group_df2.loc[group_df2[0]=='low hgb']\n",
    "\n",
    "#look at consectutive\n",
    "comp2=comp.loc[comp[1]=='completed']\n",
    "hgb2=hgb.loc[hgb[1]=='low hgb']\n",
    "comp_hgb=comp.loc[comp[1]=='low hgb']\n",
    "\n",
    "##calculate probabulity of first tiem donors returning after 2 comp donation\n",
    "num=comp2[2].notna().sum()\n",
    "prob_f_cc=num/len(comp2)\n",
    "print(prob_f_cc)\n",
    "\n",
    "#calculate probabulity of first time donors returning after 2 hgb def\n",
    "num=hgb2[2].notna().sum()\n",
    "prob_f_hh=num/len(hgb2)\n",
    "print(prob_f_hh)\n",
    "\n",
    "#calculate probabulity of first tim donors returning after a comp donation then a hgb deferral\n",
    "num=comp_hgb[2].notna().sum()\n",
    "prob_f_ch=num/len(comp_hgb)\n",
    "print(prob_f_ch)"
   ]
  },
  {
   "cell_type": "code",
   "execution_count": 26,
   "id": "be8f9417-1ef6-4ad2-91c3-50ce2f547c5b",
   "metadata": {},
   "outputs": [
    {
     "data": {
      "text/plain": [
       "'WB=(len(df.loc[(df.don_proc_cat == \\'WB/RBC\\') & (df.OUTCOME_TYPE==\\'low hgb\\')])/len(df.loc[(df.don_proc_cat == \\'WB/RBC\\')]))\\nPP=(len(df.loc[(df.don_proc_cat == \\'Platelet/Plasma\\') & (df.OUTCOME_TYPE==\\'low hgb\\')])/len(df.loc[(df.don_proc_cat == \\'Platelet/Plasma\\')]))\\ndrbc=(len(df.loc[(df.don_proc_cat == \\'2RBC\\') & (df.OUTCOME_TYPE==\\'low hgb\\')])/len(df.loc[(df.don_proc_cat == \\'2RBC\\')]))\\nsample=(len(df.loc[(df.don_proc_cat == \\'Sample\\') & (df.OUTCOME_TYPE==\\'low hgb\\')])/len(df.loc[(df.don_proc_cat == \\'Sample\\')]))\\nunk=(len(df.loc[(df.don_proc_cat == \\'Not Drawn/Unknown\\') & (df.OUTCOME_TYPE==\\'low hgb\\')])/len(df.loc[(df.don_proc_cat == \\'Not Drawn/Unknown\\')]))\\nother=(len(df.loc[(df.don_proc_cat == \\'Tissue/Granulocyte\\') & (df.OUTCOME_TYPE==\\'low hgb\\')])/len(df.loc[(df.don_proc_cat == \\'Tissue/Granulocyte\\')]))\\n\\nprint(\\'WB: \\', round(WB, 2))\\nprint(\\'Platelet.Plasma: \\', round(PP, 2))\\nprint(\"2RBC: \", round(drbc, 2))\\nprint(\"sample: \", round(sample,2))\\nprint(\"not drawn/unknown \", round(unk,2))\\nprint(\\'Tissue collection/Granulocyte: \\', round(other,2))\\n'"
      ]
     },
     "execution_count": 26,
     "metadata": {},
     "output_type": "execute_result"
    }
   ],
   "source": [
    "\"\"\"WB=(len(df.loc[(df.don_proc_cat == 'WB/RBC') & (df.OUTCOME_TYPE=='low hgb')])/len(df.loc[(df.don_proc_cat == 'WB/RBC')]))\n",
    "PP=(len(df.loc[(df.don_proc_cat == 'Platelet/Plasma') & (df.OUTCOME_TYPE=='low hgb')])/len(df.loc[(df.don_proc_cat == 'Platelet/Plasma')]))\n",
    "drbc=(len(df.loc[(df.don_proc_cat == '2RBC') & (df.OUTCOME_TYPE=='low hgb')])/len(df.loc[(df.don_proc_cat == '2RBC')]))\n",
    "sample=(len(df.loc[(df.don_proc_cat == 'Sample') & (df.OUTCOME_TYPE=='low hgb')])/len(df.loc[(df.don_proc_cat == 'Sample')]))\n",
    "unk=(len(df.loc[(df.don_proc_cat == 'Not Drawn/Unknown') & (df.OUTCOME_TYPE=='low hgb')])/len(df.loc[(df.don_proc_cat == 'Not Drawn/Unknown')]))\n",
    "other=(len(df.loc[(df.don_proc_cat == 'Tissue/Granulocyte') & (df.OUTCOME_TYPE=='low hgb')])/len(df.loc[(df.don_proc_cat == 'Tissue/Granulocyte')]))\n",
    "\n",
    "print('WB: ', round(WB, 2))\n",
    "print('Platelet.Plasma: ', round(PP, 2))\n",
    "print(\"2RBC: \", round(drbc, 2))\n",
    "print(\"sample: \", round(sample,2))\n",
    "print(\"not drawn/unknown \", round(unk,2))\n",
    "print('Tissue collection/Granulocyte: ', round(other,2))\n",
    "\"\"\""
   ]
  },
  {
   "cell_type": "code",
   "execution_count": 27,
   "id": "a7719d0c-6404-4e17-98a2-fc30291952b5",
   "metadata": {},
   "outputs": [
    {
     "name": "stdout",
     "output_type": "stream",
     "text": [
      "-----------total counts of outcomes---------\n",
      "completed         4557517\n",
      "No Draw            428228\n",
      "low hgb            283878\n",
      "other deferral     251435\n",
      "Name: OUTCOME_TYPE, dtype: int64\n",
      "-----------deferral rate by fixed mobile---------\n",
      "0.05813837106416765\n",
      "0.04633264209735292\n",
      "------------% of fixed/mobile--------------\n",
      "0.43069571085831737\n",
      "0.5693042891416826\n",
      "--------------deferral rate table by sex -----------\n",
      "        -  First Time    Repeat       All\n",
      "0  Female    6.697233  7.856918  7.620287\n",
      "1    Male    0.800060  1.938004  1.727404\n",
      "2     All    4.250087  5.225043  5.034224\n",
      "---------total donors---------------\n",
      "2014002\n",
      "---------total visits---------------\n",
      "5521058\n",
      "--------donor loyalty to mobileID--------------\n",
      "0.322012355710587\n",
      "0.6601066657246575\n",
      "0.4676281248992494\n"
     ]
    }
   ],
   "source": [
    "print('-----------total counts of outcomes---------')\n",
    "print(df['OUTCOME_TYPE'].value_counts())\n",
    "\n",
    "print(\"-----------deferral rate by fixed mobile---------\")\n",
    "\n",
    "\n",
    "print(len(df.loc[((df['OUTCOME_TYPE']==\"low hgb\") & (df['Fixed_mobile']== 1))])/len(df.loc[(df['Fixed_mobile']==1)]))\n",
    "print(len(df.loc[((df['OUTCOME_TYPE']==\"low hgb\") & (df['Fixed_mobile']== 0))])/len(df.loc[(df['Fixed_mobile']==0)]))\n",
    "\n",
    "print('------------% of fixed/mobile--------------')\n",
    "\n",
    "print(len(df.loc[(df['Fixed_mobile']==1)])/len(df))\n",
    "print(len(df.loc[(df['Fixed_mobile']==0)])/len(df))\n",
    "\n",
    "print('--------------deferral rate table by sex -----------')\n",
    "table=pd.DataFrame.from_dict(table)\n",
    "print(table)\n",
    "\n",
    "print('---------total donors---------------')\n",
    "print(df.DONOR_KEY.nunique())\n",
    "print('---------total visits---------------')\n",
    "print(len(df))\n",
    "\n",
    "print('--------donor loyalty to mobileID--------------')\n",
    "print(len(df.loc[df.return_to_same_ID_by_dn =='mm'])/len(df.loc[(df.Fixed_mobile==0)])) #mob only\n",
    "print(len(df.loc[df.return_to_same_ID_by_dn =='ff'])/len(df.loc[(df.Fixed_mobile==1)]))#fixed only\n",
    "print(len(df.loc[df.return_to_same_ID ==1])/len(df))#overall\n",
    "\n",
    "\n"
   ]
  },
  {
   "cell_type": "code",
   "execution_count": 604,
   "id": "cf3b1884-865f-4a1c-973e-10e5388f0908",
   "metadata": {},
   "outputs": [],
   "source": [
    "#drop cols that arent needed \n",
    "\n",
    "#save preprocessed file\n",
    "df.to_csv((\"../1_data/private/vitalant_preprocessed_data.csv\"), index=False)"
   ]
  },
  {
   "cell_type": "code",
   "execution_count": null,
   "id": "3bc511d3-d0c3-4997-9cc3-99211e3d9a88",
   "metadata": {},
   "outputs": [],
   "source": []
  }
 ],
 "metadata": {
  "kernelspec": {
   "display_name": "Python 3 (ipykernel)",
   "language": "python",
   "name": "python3"
  },
  "language_info": {
   "codemirror_mode": {
    "name": "ipython",
    "version": 3
   },
   "file_extension": ".py",
   "mimetype": "text/x-python",
   "name": "python",
   "nbconvert_exporter": "python",
   "pygments_lexer": "ipython3",
   "version": "3.10.12"
  }
 },
 "nbformat": 4,
 "nbformat_minor": 5
}
