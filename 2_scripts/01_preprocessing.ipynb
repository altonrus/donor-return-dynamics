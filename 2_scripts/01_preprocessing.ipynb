{
 "cells": [
  {
   "cell_type": "code",
   "execution_count": 59,
   "id": "1e58b34f",
   "metadata": {},
   "outputs": [
    {
     "name": "stderr",
     "output_type": "stream",
     "text": [
      "c:\\Users\\jagir\\anaconda3\\lib\\site-packages\\IPython\\core\\interactiveshell.py:3165: DtypeWarning: Columns (0) have mixed types.Specify dtype option on import or set low_memory=False.\n",
      "  has_raised = await self.run_ast_nodes(code_ast.body, cell_name,\n"
     ]
    }
   ],
   "source": [
    "#preprocessing SANBS data\n",
    "\n",
    "import pandas as pd\n",
    "import numpy as np\n",
    "import datetime as dt\n",
    "from datetime import timedelta\n",
    "\n",
    "import matplotlib.pyplot as plt\n",
    "import seaborn as sns\n",
    "\n",
    "df=pd.read_csv(\"../1_data/private/SANBSdata.csv\", error_bad_lines=False)\n"
   ]
  },
  {
   "cell_type": "code",
   "execution_count": 60,
   "id": "efb5add5",
   "metadata": {},
   "outputs": [],
   "source": [
    "\n",
    "#add a column OUTCOME_TYPE that indicates hgb deferal, other deferral or completed donation to indicate deferral type\n",
    "\n",
    "df.loc[(df['Outcome'] == 'DEFERRAL') & (df[\"category\"]=='Haematocrit/Haemoglobin'), 'OUTCOME_TYPE'] = 'low hgb'\n",
    "df.loc[(df['Outcome'] == \"SUCCESSFUL DONATION\"), 'OUTCOME_TYPE'] = 'completed'\n",
    "df.loc[(df['Outcome'] == \"DEFERRAL\") & (df[\"category\"]!='Haematocrit/Haemoglobin') , 'OUTCOME_TYPE'] = 'other deferral'\n",
    "df['OUTCOME_TYPE'].fillna(\"no draw\", inplace=True)\n",
    "\n",
    "df.drop(df[df['Visit_Date'].isna()].index, inplace=True) #remove any missing visit dates\n",
    "\n",
    "df[\"Visit_Date\"] = df[\"Visit_Date\"].astype(\"datetime64\") #convert to date time object\n",
    "\n",
    "df.sort_values(by=['DonorID', 'don_Sequence', 'Visit_Date'], axis = 0, inplace=True)\n",
    "\n"
   ]
  },
  {
   "cell_type": "code",
   "execution_count": 61,
   "id": "96b8658a",
   "metadata": {},
   "outputs": [],
   "source": [
    "\n",
    "#add censored column (indicates whether row is right censored) 0-censored, 1-notcensored\n",
    "df['CENSORED']=np.where(df['DonorID'] == df['DonorID'].shift(-1), 1, 0)\n",
    "\n",
    "#add time_to_return column (time between visits)\n",
    "#if return exists -> difference between visit dates\n",
    "#else difference between visit date and end of data collection 2022-12-31\n",
    "\n",
    "df['time_to_return']= np.where(df['CENSORED']==1, (df['Visit_Date'].shift(-1)-df['Visit_Date'])/np.timedelta64(1, 'D'), (dt.datetime(2022, 12, 31)-df[\"Visit_Date\"])/np.timedelta64(1, 'D'))\n",
    "#df['time_to_return'].fillna((df['VISIT_DATE'].shift(-1)-df[\"VISIT_DATE\"])/np.timedelta64(1, 'D'), inplace=True)\n",
    "\n",
    "#remove permanent deferrals\n",
    "df.drop(df[df.Deferral_permanent == 'Perm'].index, inplace=True)\n",
    "df.drop(df[(df['OUTCOME_TYPE'] == 'other deferral') & (df['Deferral_permanent'] == 'NoDeferral')].index, inplace=True)\n",
    "\n",
    "\n"
   ]
  },
  {
   "cell_type": "code",
   "execution_count": 10,
   "id": "36491424",
   "metadata": {},
   "outputs": [
    {
     "data": {
      "text/plain": [
       "0"
      ]
     },
     "execution_count": 10,
     "metadata": {},
     "output_type": "execute_result"
    }
   ],
   "source": [
    "#compute time_to_return with shifts for completed donation: subtract 56 days \n",
    "\n",
    "df['time_to_return'] = np.where(df['OUTCOME_TYPE'] == 'completed', (df['time_to_return'] - 56), df['time_to_return'])\n",
    "\n",
    "#compute time_to_return with shifts for other donations\n",
    "#first covert eligibilty year and month to a datetime object\n",
    "\n",
    "df[\"Def_end\"] = df[\"Def_end\"].astype(\"datetime64\")\n",
    "\n",
    "\n",
    "df['time_to_return'] = np.where(df['OUTCOME_TYPE'] == 'low hgb', (df['time_to_return'] - ((df['Def_end'] - df['Visit_Date'])/np.timedelta64(1, 'D'))), df['time_to_return'])\n",
    "\n",
    "df['time_to_return'] = np.where(df['OUTCOME_TYPE'] == 'other deferral', (df['time_to_return'] - ((df['Def_end'] - df['Visit_Date'])/np.timedelta64(1, 'D'))), df['time_to_return'])\n",
    "df['time_to_return'].isna().sum()"
   ]
  },
  {
   "cell_type": "code",
   "execution_count": 62,
   "id": "d900c16f",
   "metadata": {
    "scrolled": false
   },
   "outputs": [
    {
     "data": {
      "text/plain": [
       "<AxesSubplot:xlabel='Fixed_mobile', ylabel='Probability'>"
      ]
     },
     "execution_count": 62,
     "metadata": {},
     "output_type": "execute_result"
    },
    {
     "data": {
      "image/png": "[encoded data removed]",
      "text/plain": [
       "<Figure size 432x288 with 1 Axes>"
      ]
     },
     "metadata": {
      "needs_background": "light"
     },
     "output_type": "display_data"
    }
   ],
   "source": [
    "#Fixed-Mobile Donations Analysis\n",
    "\n",
    "#plot number - mobile=0, fixed=1\n",
    "fixed=df[\"Fixed\"]\n",
    "#sns.histplot(df, x=\"Fixed\", stat=\"probability\")\n",
    "#sns.countplot(fixed)\n",
    "#print(fixed.value_counts())\n",
    "\n",
    "# group and remove some categories that are not fixed or mobile\n",
    "# administrative site and apheresis clinic fall under fixed\n",
    "# exclude others\n",
    "\n",
    "df.drop(df[(df['Fixed']== 'Lapsed Clinic') | (df['Fixed']=='Processing Lab')| (df['Fixed']=='Unallocated') \n",
    "           | (df[\"Fixed\"]== 'Laboratorium') |(df[\"Fixed\"]=='Doctor')].index, inplace=True)\n",
    "\n",
    "df['Fixed_mobile'] = np.where(df['Fixed'] == 'Mobile Clinic', 'Mobile', 'Fixed')\n",
    "sns.histplot(df, x=\"Fixed_mobile\", stat=\"probability\")\n",
    "\n",
    "#create a column to indicate \n",
    "    #1. mobile then mobile - mm\n",
    "    #2. mobile then fixed -mf\n",
    "    #3. fixed then fixed - ff\n",
    "    #4. fixed then mobile - fm\n",
    "\n",
    "df[\"FIXED_NEXT\"] = np.where(df['DonorID'] == df['DonorID'].shift(-1), df['FIXED'].shift(-1), 10)\n",
    "df.loc[((df['DonorID'] == df['DonorID'].shift(-1)) & (df['Fixed_mobile'] == 'Fixed') \n",
    "        & (df['Fixed_mobile']== 'Fixed')), 'fixed_mobile_pattern'] = 'FF'\n",
    "df.loc[((df['DonorID'] == df['DonorID'].shift(-1)) & (df['Fixed_mobile'] == 'Mobile') \n",
    "        & (df['Fixed_mobile']== 'Mobile')), 'fixed_mobile_pattern']= 'MM'\n",
    "df.loc[((df['DonorID'] == df['DonorID'].shift(-1)) & (df['Fixed_mobile'] == 'Fixed') \n",
    "        & (df['Fixed_mobile']== 'Mobile')), 'fixed_mobile_pattern'] = 'FM'\n",
    "df.loc[((df['DonorID'] == df['DonorID'].shift(-1)) & (df['Fixed_mobile'] == 'Mobile') \n",
    "        & (df['Fixed_mobile']== 'Fixed')), 'fixed_mobile_pattern']= 'MF'\n",
    "df['fixed_mobile_pattern'].fillna('last', inplace=True)\n",
    "\n",
    "# percent population fixed vs mobile by year\n",
    "# - do people go back to the same mobile site?\n",
    "# - how many people never completed donation?\n"
   ]
  },
  {
   "cell_type": "code",
   "execution_count": 63,
   "id": "86369fcc",
   "metadata": {},
   "outputs": [],
   "source": [
    "# Compute donation product for deferred donors - using the following criteria\n",
    " # - if donor only has WB then deferred donation is WB\n",
    " # - if next donation procedure is WB then deferred donation is WB\n",
    " # - if previous donation procedure is WB then deferred donation is WB\n",
    "\n",
    "\n",
    "df['don_proc_imputed'] = np.where((df.Outcome=='DEFFERAL') & (df['DonorID'] == df['DonorID'].shift(1)) \n",
    "                                  & (df.donation_product.shift(1) == \"WB\"), 'WB', df['donation_product'])\n",
    "    \n",
    "df['don_proc_imputed'] = np.where((df.Outcome=='DEFFERAL') & (df['DonorID'] == df['DonorID'].shift(-1)) \n",
    "                                  & (df.donation_product.shift(-1) == \"WB\"), 'WB', df['donation_product'])\n",
    "\n",
    "#df['don_proc_imputed']=np.where((df.Outcome=='DEFFERAL') ,'WB', df['donation_product'])\n",
    "\n",
    "#df_group=df.groupby('DonorID')['donation_product']\n",
    "#df2=df.loc[df['don_proc_imputed']=='DEF PROD']\n",
    "\n",
    "#len(df2)\n",
    "\n",
    "#df_group.head()\n"
   ]
  },
  {
   "cell_type": "code",
   "execution_count": 58,
   "id": "6e4364e3",
   "metadata": {},
   "outputs": [
    {
     "data": {
      "text/html": [
       "<div>\n",
       "<style scoped>\n",
       "    .dataframe tbody tr th:only-of-type {\n",
       "        vertical-align: middle;\n",
       "    }\n",
       "\n",
       "    .dataframe tbody tr th {\n",
       "        vertical-align: top;\n",
       "    }\n",
       "\n",
       "    .dataframe thead th {\n",
       "        text-align: right;\n",
       "    }\n",
       "</style>\n",
       "<table border=\"1\" class=\"dataframe\">\n",
       "  <thead>\n",
       "    <tr style=\"text-align: right;\">\n",
       "      <th></th>\n",
       "      <th>DonorID</th>\n",
       "      <th>Visit_Date</th>\n",
       "      <th>Visit_yr</th>\n",
       "      <th>Visit_Mo</th>\n",
       "      <th>donation_time</th>\n",
       "      <th>don_Sequence</th>\n",
       "      <th>col_Int</th>\n",
       "      <th>Visit_Age</th>\n",
       "      <th>sex</th>\n",
       "      <th>Fixed</th>\n",
       "      <th>...</th>\n",
       "      <th>Def_start</th>\n",
       "      <th>Def_end</th>\n",
       "      <th>Deferral_permanent</th>\n",
       "      <th>EffectiveYr</th>\n",
       "      <th>EffectiveMo</th>\n",
       "      <th>OUTCOME_TYPE</th>\n",
       "      <th>CENSORED</th>\n",
       "      <th>time_to_return</th>\n",
       "      <th>Fixed_mobile</th>\n",
       "      <th>don_proc_imputed</th>\n",
       "    </tr>\n",
       "  </thead>\n",
       "  <tbody>\n",
       "    <tr>\n",
       "      <th>651015</th>\n",
       "      <td>18366</td>\n",
       "      <td>2020-12-12</td>\n",
       "      <td>2020.0</td>\n",
       "      <td>12.0</td>\n",
       "      <td>1129.0</td>\n",
       "      <td>25.0</td>\n",
       "      <td>7955.0</td>\n",
       "      <td>50.9</td>\n",
       "      <td>F</td>\n",
       "      <td>Fixed Clinic</td>\n",
       "      <td>...</td>\n",
       "      <td>NaN</td>\n",
       "      <td>NaT</td>\n",
       "      <td>NoDeferral</td>\n",
       "      <td>NaN</td>\n",
       "      <td>NaN</td>\n",
       "      <td>completed</td>\n",
       "      <td>1</td>\n",
       "      <td>16.0</td>\n",
       "      <td>Fixed</td>\n",
       "      <td>WB</td>\n",
       "    </tr>\n",
       "    <tr>\n",
       "      <th>2808706</th>\n",
       "      <td>18366</td>\n",
       "      <td>2021-02-22</td>\n",
       "      <td>2021.0</td>\n",
       "      <td>2.0</td>\n",
       "      <td>1006.0</td>\n",
       "      <td>26.0</td>\n",
       "      <td>72.0</td>\n",
       "      <td>51.1</td>\n",
       "      <td>F</td>\n",
       "      <td>Fixed Clinic</td>\n",
       "      <td>...</td>\n",
       "      <td>NaN</td>\n",
       "      <td>NaT</td>\n",
       "      <td>NoDeferral</td>\n",
       "      <td>NaN</td>\n",
       "      <td>NaN</td>\n",
       "      <td>completed</td>\n",
       "      <td>1</td>\n",
       "      <td>180.0</td>\n",
       "      <td>Fixed</td>\n",
       "      <td>WB</td>\n",
       "    </tr>\n",
       "    <tr>\n",
       "      <th>4752075</th>\n",
       "      <td>18366</td>\n",
       "      <td>2021-10-16</td>\n",
       "      <td>2021.0</td>\n",
       "      <td>10.0</td>\n",
       "      <td>1133.0</td>\n",
       "      <td>27.0</td>\n",
       "      <td>236.0</td>\n",
       "      <td>51.8</td>\n",
       "      <td>F</td>\n",
       "      <td>Fixed Clinic</td>\n",
       "      <td>...</td>\n",
       "      <td>NaN</td>\n",
       "      <td>NaT</td>\n",
       "      <td>NoDeferral</td>\n",
       "      <td>NaN</td>\n",
       "      <td>NaN</td>\n",
       "      <td>completed</td>\n",
       "      <td>0</td>\n",
       "      <td>385.0</td>\n",
       "      <td>Fixed</td>\n",
       "      <td>WB</td>\n",
       "    </tr>\n",
       "  </tbody>\n",
       "</table>\n",
       "<p>3 rows × 32 columns</p>\n",
       "</div>"
      ],
      "text/plain": [
       "        DonorID Visit_Date  Visit_yr  Visit_Mo  donation_time  don_Sequence  \\\n",
       "651015    18366 2020-12-12    2020.0      12.0         1129.0          25.0   \n",
       "2808706   18366 2021-02-22    2021.0       2.0         1006.0          26.0   \n",
       "4752075   18366 2021-10-16    2021.0      10.0         1133.0          27.0   \n",
       "\n",
       "         col_Int  Visit_Age sex         Fixed  ... Def_start Def_end  \\\n",
       "651015    7955.0       50.9   F  Fixed Clinic  ...       NaN     NaT   \n",
       "2808706     72.0       51.1   F  Fixed Clinic  ...       NaN     NaT   \n",
       "4752075    236.0       51.8   F  Fixed Clinic  ...       NaN     NaT   \n",
       "\n",
       "        Deferral_permanent EffectiveYr EffectiveMo OUTCOME_TYPE  CENSORED  \\\n",
       "651015          NoDeferral         NaN         NaN    completed         1   \n",
       "2808706         NoDeferral         NaN         NaN    completed         1   \n",
       "4752075         NoDeferral         NaN         NaN    completed         0   \n",
       "\n",
       "        time_to_return Fixed_mobile  don_proc_imputed  \n",
       "651015            16.0        Fixed                WB  \n",
       "2808706          180.0        Fixed                WB  \n",
       "4752075          385.0        Fixed                WB  \n",
       "\n",
       "[3 rows x 32 columns]"
      ]
     },
     "execution_count": 58,
     "metadata": {},
     "output_type": "execute_result"
    }
   ],
   "source": [
    "#a = df.groupby('DonorID').donation_product.nunique() ==1\n",
    "#a[a].index.tolist()\n",
    "\n"
   ]
  },
  {
   "cell_type": "code",
   "execution_count": 49,
   "id": "185fb6e8",
   "metadata": {},
   "outputs": [],
   "source": [
    "# documenting some errors in data\n",
    "\n",
    "df['time_to_return'].isnull().sum()\n",
    "\n",
    "df_end=df.loc[df['Visit_Date'] > df['Def_end']]\n",
    "#print(len(df_end))\n",
    "#df_end.head(25).to_csv('../4_output/def_end_error.csv')\n",
    "\n",
    "df_def=df.loc[(df['Deferral_permanent'] == 'NoDeferral') & (df['OUTCOME_TYPE'] == \"other deferral\")]\n",
    "#df_def.head(25).to_csv('../4_output/def_permanent_error.csv')\n",
    "\n",
    "#df_neg=df.loc[ (df['time_to_return']<0)]\n",
    "\n",
    "#print(len(df_neg))\n",
    "#df_neg.head(-25)"
   ]
  },
  {
   "cell_type": "code",
   "execution_count": 64,
   "id": "4af63afc",
   "metadata": {},
   "outputs": [],
   "source": [
    "df.to_csv((\"../1_data/private/preprocessed_data.csv\"), index=False)\n"
   ]
  }
 ],
 "metadata": {
  "kernelspec": {
   "display_name": "Python 3",
   "language": "python",
   "name": "python3"
  },
  "language_info": {
   "codemirror_mode": {
    "name": "ipython",
    "version": 3
   },
   "file_extension": ".py",
   "mimetype": "text/x-python",
   "name": "python",
   "nbconvert_exporter": "python",
   "pygments_lexer": "ipython3",
   "version": "3.8.8"
  },
  "vscode": {
   "interpreter": {
    "hash": "5ceecb7da2aafc3df56a72e3d5d21f12f2307c7cf9b9b8f49c6cfc619e649209"
   }
  }
 },
 "nbformat": 4,
 "nbformat_minor": 5
}
