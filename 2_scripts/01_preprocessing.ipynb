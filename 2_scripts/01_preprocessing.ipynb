{
 "cells": [
  {
   "cell_type": "code",
   "execution_count": null,
   "id": "1e58b34f",
   "metadata": {},
   "outputs": [],
   "source": [
    "#preprocessing SANBS data\n",
    "\n",
    "import pandas as pd\n",
    "import numpy as np\n",
    "import datetime as dt\n",
    "from datetime import timedelta\n",
    "\n",
    "import matplotlib.pyplot as plt\n",
    "import seaborn as sns\n",
    "\n",
    "df=pd.read_csv(\"../1_data/private/SANBS Donations (3 Nov 2022).csv\")\n"
   ]
  },
  {
   "cell_type": "code",
   "execution_count": null,
   "id": "efb5add5",
   "metadata": {},
   "outputs": [],
   "source": [
    "\n",
    "\n",
    "#add a column OUTCOME_TYPE that indicates hgb deferal, other deferral or completed donation to indicate deferral type\n",
    "\n",
    "df.loc[(df['Outcome'] == 'DEFERRAL') & (df[\"category\"]=='Haematocrit/Haemoglobin'), 'OUTCOME_TYPE'] = 'low hgb'\n",
    "df.loc[(df['Outcome'] == \"SUCCESSFUL DONATION\"), 'OUTCOME_TYPE'] = 'completed'\n",
    "df.loc[(df['Outcome'] == \"DEFERRAL\") & (df[\"category\"]!='Haematocrit/Haemoglobin') , 'OUTCOME_TYPE'] = 'other deferral'\n",
    "df['OUTCOME_TYPE'].fillna(\"no draw\", inplace=True)\n",
    "\n",
    "\n"
   ]
  },
  {
   "cell_type": "code",
   "execution_count": null,
   "id": "96b8658a",
   "metadata": {},
   "outputs": [],
   "source": [
    "\n",
    "#add censored column (indicates whether row is right censored) 0-censored, 1-notcensored\n",
    "df['CENSORED']=np.where(df['DonorID'] == df['DonorID'].shift(-1), 1, 0)\n",
    "\n",
    "#add time_to_return column (time between visits)\n",
    "#if return exists -> difference between visit dates\n",
    "#else difference between visit date and end of data collection 2022-12-01\n",
    "\n",
    "df.drop(df[df['Visit_Date'].isna()].index, inplace=True) #remove any missing visit dates\n",
    "\n",
    "df[\"Visit_Date\"] = df[\"Visit_Date\"].astype(\"datetime64\") #convert to date time object\n",
    "\n",
    "\n",
    "df['time_to_return']= np.where(df['CENSORED']==1, (df['Visit_Date'].shift(-1)-df['Visit_Date'])/np.timedelta64(1, 'D'), (dt.datetime(2022, 12, 1)-df[\"Visit_Date\"])/np.timedelta64(1, 'D'))\n",
    "#df['time_to_return'].fillna((df['VISIT_DATE'].shift(-1)-df[\"VISIT_DATE\"])/np.timedelta64(1, 'D'), inplace=True)\n",
    "\n",
    "#remove permanent deferrals\n",
    "df.drop(df[df.Deferral_permanent == 'Perm'].index, inplace=True)\n",
    "\n"
   ]
  },
  {
   "cell_type": "code",
   "execution_count": null,
   "id": "7417caed",
   "metadata": {},
   "outputs": [
    {
     "data": {
      "text/plain": [
       "9746"
      ]
     },
     "execution_count": 21,
     "metadata": {},
     "output_type": "execute_result"
    }
   ],
   "source": [
    "\"\"\"df['time_to_return'].mask(df['OUTCOME_TYPE']=='completed', (df['time_to_return'] - 56), inplace=True)\n",
    "df['time_to_return'].mask(df['OUTCOME_TYPE']=='low hgb', (df['time_to_return'] - ((df['Def_end'] - df['Visit_Date'])/np.timedelta64(1, 'D'))), inplace=True)\n",
    "df['time_to_return'].mask(df['OUTCOME_TYPE']=='other deferral', (df['time_to_return'] - ((df['Def_end'] - df['Visit_Date'])/np.timedelta64(1, 'D'))), inplace=True)\n",
    "df['time_to_return'].isna().sum()\"\"\""
   ]
  },
  {
   "cell_type": "code",
   "execution_count": null,
   "id": "36491424",
   "metadata": {},
   "outputs": [
    {
     "data": {
      "text/plain": [
       "9746"
      ]
     },
     "execution_count": 17,
     "metadata": {},
     "output_type": "execute_result"
    }
   ],
   "source": [
    "#compute time_to_return with shifts for completed donation: subtract 56 days \n",
    "df['time_to_return'] = np.where(df['OUTCOME_TYPE'] == 'completed', (df['time_to_return'] - 56), df['time_to_return'])\n",
    "\n",
    "#compute time_to_return with shifts for other donations\n",
    "#first covert eligibilty year and month to a datetime object\n",
    "\n",
    "df[\"Def_end\"] = df[\"Def_end\"].astype(\"datetime64\")\n",
    "\n",
    "\n",
    "df['time_to_return'] = np.where(df['OUTCOME_TYPE'] == 'low hgb', (df['time_to_return'] - ((df['Def_end'] - df['Visit_Date'])/np.timedelta64(1, 'D'))), df['time_to_return'])\n",
    "\n",
    "#df['time_to_return'] = np.where(df['OUTCOME_TYPE'] == 'other deferral', (df['time_to_return'] - ((df['Def_end'] - df['Visit_Date'])/np.timedelta64(1, 'D'))), df['time_to_return'])\n",
    "df['time_to_return'].isna().sum()"
   ]
  },
  {
   "cell_type": "code",
   "execution_count": null,
   "id": "d900c16f",
   "metadata": {},
   "outputs": [
    {
     "name": "stderr",
     "output_type": "stream",
     "text": [
      "c:\\Users\\jagir\\anaconda3\\lib\\site-packages\\seaborn\\_decorators.py:36: FutureWarning: Pass the following variable as a keyword arg: x. From version 0.12, the only valid positional argument will be `data`, and passing other arguments without an explicit keyword will result in an error or misinterpretation.\n",
      "  warnings.warn(\n"
     ]
    },
    {
     "name": "stdout",
     "output_type": "stream",
     "text": [
      "Mobile Clinic          2306789\n",
      "Fixed Clinic           1962798\n",
      "Administrative Site      59595\n",
      "Apheresis Clinic         29593\n",
      "Laboratorium              7979\n",
      "Lapsed Clinic               39\n",
      "Processing Lab              24\n",
      "Unallocated                 10\n",
      "Doctor                       2\n",
      "Name: Fixed, dtype: int64\n"
     ]
    },
    {
     "data": {
      "image/png": "[encoded data removed]",
      "text/plain": [
       "<Figure size 432x288 with 1 Axes>"
      ]
     },
     "metadata": {
      "needs_background": "light"
     },
     "output_type": "display_data"
    }
   ],
   "source": [
    "#Fixed-Mobile Donations Analysis\n",
    "\n",
    "#plot number - mobile=0, fixed=1\n",
    "fixed=df[\"Fixed\"]\n",
    "sns.histplot(df, x=\"Fixed\", stat=\"probability\")\n",
    "sns.countplot(fixed)\n",
    "print(fixed.value_counts())"
   ]
  },
  {
   "cell_type": "code",
   "execution_count": null,
   "id": "185fb6e8",
   "metadata": {},
   "outputs": [
    {
     "data": {
      "text/plain": [
       "9746"
      ]
     },
     "execution_count": 15,
     "metadata": {},
     "output_type": "execute_result"
    }
   ],
   "source": [
    "df['time_to_return'].isnull().sum()\n",
    "\n",
    "\n"
   ]
  },
  {
   "cell_type": "code",
   "execution_count": null,
   "id": "4af63afc",
   "metadata": {},
   "outputs": [],
   "source": [
    "df.to_csv((\"../1_data/private/preprocessed_data.csv\"), index=False)\n"
   ]
  }
 ],
 "metadata": {
  "kernelspec": {
   "display_name": "Python 3.8.8 ('base')",
   "language": "python",
   "name": "python3"
  },
  "language_info": {
   "codemirror_mode": {
    "name": "ipython",
    "version": 3
   },
   "file_extension": ".py",
   "mimetype": "text/x-python",
   "name": "python",
   "nbconvert_exporter": "python",
   "pygments_lexer": "ipython3",
   "version": "3.8.8 (default, Apr 13 2021, 15:08:03) [MSC v.1916 64 bit (AMD64)]"
  },
  "vscode": {
   "interpreter": {
    "hash": "5ceecb7da2aafc3df56a72e3d5d21f12f2307c7cf9b9b8f49c6cfc619e649209"
   }
  }
 },
 "nbformat": 4,
 "nbformat_minor": 5
}
