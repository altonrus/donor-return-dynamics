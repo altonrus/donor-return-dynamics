{
 "cells": [
  {
   "cell_type": "code",
   "execution_count": null,
   "id": "d22e5107-7fe9-4d48-80b2-e450cb2b3b5a",
   "metadata": {},
   "outputs": [],
   "source": [
    "# generate info about mobile sites from mobile ID for both SANBS and Vitalant\n",
    "import pandas as pd\n",
    "import numpy as np\n",
    "import datetime as dt\n",
    "from datetime import timedelta\n",
    "\n",
    "import matplotlib.pyplot as plt\n",
    "import seaborn as sns\n",
    "\n",
    "df=pd.read_csv(\"../1_data/private/SANBSdata.csv\", error_bad_lines=False)\n",
    "#df=pd.read_csv(\"../1_data/private/VitalantData.csv\")"
   ]
  },
  {
   "cell_type": "code",
   "execution_count": null,
   "id": "a0e9f760-70a6-4c53-9008-5efb17d057e2",
   "metadata": {},
   "outputs": [],
   "source": [
    "## for SANBS\n",
    "\n",
    "# look at mobile ID to see the number of times a year it is visited \n",
    "#filter unique dates - some go for 2 or 3 consectutive days\n",
    "df.drop(df[df['Visit_Date'].isna()].index, inplace=True) #remove any missing visit dates\n",
    "\n",
    "df[\"Visit_Date\"] = df[\"Visit_Date\"].astype(\"datetime64\") #convert to date time object\n",
    "df.drop(df[(df['Fixed']== 'Lapsed Clinic') | (df['Fixed']=='Processing Lab')| (df['Fixed']=='Unallocated') \n",
    "           | (df[\"Fixed\"]== 'Laboratorium') |(df[\"Fixed\"]=='Doctor')].index, inplace=True)\n",
    "\n",
    "df['Fixed_mobile'] = np.where(df['Fixed'] == 'Mobile Clinic', 0, 1) #mobile is 0, fixed is 1\n",
    "\n",
    "df['Year']= df['Visit_Date'].dt.strftime('%Y')\n",
    "df['Year']=df.Year.astype('int32')\n"
   ]
  },
  {
   "cell_type": "code",
   "execution_count": null,
   "id": "6024fea2-9c1d-433b-a391-c9446485c44b",
   "metadata": {},
   "outputs": [],
   "source": [
    "df=df.loc[df.Fixed_mobile==0] #keep mobile sites\n",
    "df_year_id=df.groupby(['Year', 'MobileID'])[\"Visit_Date\"].apply(list)\n",
    "df_year_id\n"
   ]
  },
  {
   "cell_type": "code",
   "execution_count": null,
   "id": "1b2343e9-40e6-4559-aa5a-71d2fe949a8b",
   "metadata": {},
   "outputs": [],
   "source": [
    "df_mID = df_year_id.to_frame()\n",
    "df_mID[\"Visit_Date\"]=df_mID['Visit_Date'].apply(lambda x: np.unique(x))\n",
    "df_mID[\"Visit_Date\"]=df_mID['Visit_Date'].apply(lambda x: sorted(x))\n",
    "df_mID"
   ]
  },
  {
   "cell_type": "code",
   "execution_count": null,
   "id": "362f2300-9c23-49b8-bbe4-baaeb5b6852e",
   "metadata": {},
   "outputs": [],
   "source": [
    "# iterate through rows keep unique date that do not occur with one or two day of each other to determine frequency of drive\n",
    "def filter_dates(date_list):\n",
    "    filtered_dates = [date_list[0]]\n",
    "    last_date = pd.to_datetime(date_list[0])\n",
    "\n",
    "    for date_str in date_list[1:]:\n",
    "        date = pd.to_datetime(date_str)\n",
    "        duration = date - last_date\n",
    "        days = duration.days\n",
    "        if days >= 2:\n",
    "            filtered_dates.append(date_str)\n",
    "        last_date = date\n",
    "\n",
    "    return filtered_dates\n",
    "\n",
    "df_mID['Visit_Dates'] = df_mID['Visit_Date'].apply(filter_dates)\n"
   ]
  },
  {
   "cell_type": "code",
   "execution_count": null,
   "id": "a0bcd7ab-a399-4f9e-b0f3-aad865ae2be3",
   "metadata": {},
   "outputs": [],
   "source": [
    "df_mID[\"Counts\"]=df_mID['Visit_Dates'].apply(lambda x: len(x))\n"
   ]
  },
  {
   "cell_type": "code",
   "execution_count": null,
   "id": "0a4d6e73-388a-4ed7-90dc-5eae01377a69",
   "metadata": {},
   "outputs": [],
   "source": [
    "df_mID.loc[(2022,'EEE078')].head(25)"
   ]
  },
  {
   "cell_type": "code",
   "execution_count": null,
   "id": "8e5a4e56-82dc-47ee-b349-8d135adf8d7e",
   "metadata": {},
   "outputs": [],
   "source": [
    "df_1= df_mID.explode('Visit_Date')\n",
    "df_1.sort_values(by=['MobileID', 'Visit_Date'], axis = 0, inplace=True)\n",
    "df_1=df_1.droplevel('Year')\n"
   ]
  },
  {
   "cell_type": "code",
   "execution_count": null,
   "id": "00caf20c-afda-44b4-b009-f22060f649ba",
   "metadata": {},
   "outputs": [],
   "source": [
    "df_2= df_mID.explode('Visit_Dates')\n",
    "df_2.sort_values(by=['MobileID', 'Visit_Dates'], axis = 0, inplace=True)\n",
    "df_2=df_2.droplevel('Year')\n",
    "df_2.reset_index(inplace=True)\n"
   ]
  },
  {
   "cell_type": "code",
   "execution_count": null,
   "id": "4a7e267d-97ec-4948-a65e-1be32f184fdd",
   "metadata": {},
   "outputs": [],
   "source": [
    "def count_id_in_next_12_months(row):\n",
    "    mask = (df_2['MobileID'] == row['MobileID']) & (df_2['Visit_Dates'] > row['Visit_Date']) & (df_2['Visit_Dates'] <= row['next_year'])\n",
    "    return mask.sum()\n",
    "\n",
    "df_1.reset_index(inplace=True)\n",
    "df_1['next_year'] = df_1['Visit_Date'] + pd.DateOffset(months=12)\n",
    "df_1['count_in_next_12_months'] = df_1.apply(count_id_in_next_12_months, axis=1)\n"
   ]
  },
  {
   "cell_type": "code",
   "execution_count": null,
   "id": "507ae4ff-461b-4d12-84f7-3e43e75bf5da",
   "metadata": {},
   "outputs": [],
   "source": [
    "df_1.loc[df_1.MobileID=='EEE078'].head(50)"
   ]
  },
  {
   "cell_type": "code",
   "execution_count": null,
   "id": "848d9c32-7049-4083-a35a-1a8355d3b6fa",
   "metadata": {},
   "outputs": [],
   "source": [
    "df_1.to_csv((\"../1_data/private/mID_table.csv\"), index=False)\n"
   ]
  },
  {
   "cell_type": "code",
   "execution_count": null,
   "id": "6e72f9fd-8e05-4128-86c9-3704dbad8fc9",
   "metadata": {},
   "outputs": [],
   "source": [
    "# For Vitalant\n",
    "df=pd.read_csv(\"../1_data/private/VitalantData.csv\")"
   ]
  },
  {
   "cell_type": "code",
   "execution_count": null,
   "id": "d1aa4c13-b662-4c0c-912d-eb1218468358",
   "metadata": {},
   "outputs": [],
   "source": [
    "df['MobileID']=df['COLLECTION_SITE_KEY']\n",
    "df[\"Visit_Date\"] = pd.to_datetime(df['DON_DATE_KEY'], format='%Y%m%d') #convert to datetime object"
   ]
  },
  {
   "cell_type": "code",
   "execution_count": null,
   "id": "40e9b45b-d082-48e9-94a6-fa143a565c65",
   "metadata": {},
   "outputs": [],
   "source": [
    "\n",
    "# look at mobile ID to see the number of times a year it is visited \n",
    "#filter unique dates - some go for 2 or 3 consectutive days\n",
    "df.drop(df[df['Visit_Date'].isna()].index, inplace=True) #remove any missing visit dates\n",
    "df[\"Visit_Date\"] = df[\"Visit_Date\"].astype(\"datetime64\") #convert to date time object\n",
    "\n",
    "df['Fixed_mobile'] = np.where(df[\"DRIVE_TYPE_FIXED_MOBILE\"] == 'Fixed', 1, 0) #mobile is 0, fixed is 1\n",
    "\n",
    "df['Year']= df['Visit_Date'].dt.strftime('%Y')\n",
    "df['Year']=df.Year.astype('int32')\n",
    "\n",
    "df=df.loc[df.Fixed_mobile==0] #keep mobile sites\n",
    "df_year_id=df.groupby(['Year', 'MobileID'])[\"Visit_Date\"].apply(list)\n",
    "df_year_id\n"
   ]
  },
  {
   "cell_type": "code",
   "execution_count": null,
   "id": "987f5c79-1423-49a6-8271-0d3f10754015",
   "metadata": {},
   "outputs": [],
   "source": [
    "df_mID = df_year_id.to_frame()\n",
    "df_mID[\"Visit_Date\"]=df_mID['Visit_Date'].apply(lambda x: np.unique(x))\n",
    "df_mID[\"Visit_Date\"]=df_mID['Visit_Date'].apply(lambda x: sorted(x))\n",
    "df_mID"
   ]
  },
  {
   "cell_type": "code",
   "execution_count": null,
   "id": "8aa0628e-4ad6-47cd-ad05-8aa2bd3d1b60",
   "metadata": {},
   "outputs": [],
   "source": [
    "df_mID['Visit_Dates'] = df_mID['Visit_Date'].apply(filter_dates)\n",
    "df_mID[\"Counts\"]=df_mID['Visit_Dates'].apply(lambda x: len(x))\n",
    "\n",
    "df_1= df_mID.explode('Visit_Date')\n",
    "df_1.sort_values(by=['MobileID', 'Visit_Date'], axis = 0, inplace=True)\n",
    "df_1=df_1.droplevel('Year')\n",
    "\n",
    "df_2= df_mID.explode('Visit_Dates')\n",
    "df_2.sort_values(by=['MobileID', 'Visit_Dates'], axis = 0, inplace=True)\n",
    "df_2=df_2.droplevel('Year')\n",
    "df_2.reset_index(inplace=True)\n",
    "\n",
    "df_1.reset_index(inplace=True)\n",
    "df_1['next_year'] = df_1['Visit_Date'] + pd.DateOffset(months=12)\n",
    "df_1['count_in_next_12_months'] = df_1.apply(count_id_in_next_12_months, axis=1)\n",
    "\n"
   ]
  },
  {
   "cell_type": "code",
   "execution_count": null,
   "id": "fb2c598d-c2bd-47ef-9cd3-af52fa36078e",
   "metadata": {},
   "outputs": [],
   "source": [
    "df_1.to_csv((\"../1_data/private/mID_table_V.csv\"), index=False)"
   ]
  },
  {
   "cell_type": "code",
   "execution_count": null,
   "id": "6acdb4cc-36f3-456a-aea9-e906350515c1",
   "metadata": {},
   "outputs": [],
   "source": []
  }
 ],
 "metadata": {
  "kernelspec": {
   "display_name": "Python 3",
   "language": "python",
   "name": "python3"
  },
  "language_info": {
   "codemirror_mode": {
    "name": "ipython",
    "version": 3
   },
   "file_extension": ".py",
   "mimetype": "text/x-python",
   "name": "python",
   "nbconvert_exporter": "python",
   "pygments_lexer": "ipython3",
   "version": "3.8.8"
  }
 },
 "nbformat": 4,
 "nbformat_minor": 5
}
