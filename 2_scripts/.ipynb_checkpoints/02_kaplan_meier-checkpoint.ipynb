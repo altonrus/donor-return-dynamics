{
 "cells": [
  {
   "cell_type": "code",
   "execution_count": null,
   "id": "a68aa7fa",
   "metadata": {},
   "outputs": [],
   "source": [
    "# Performing survival analysis using Kaplan Meier method\n",
    "\n",
    "import pandas as pd\n",
    "import numpy as np\n",
    "import datetime as dt\n",
    "from datetime import timedelta\n",
    "\n",
    "import matplotlib.pyplot as plt\n",
    "import seaborn as sns\n",
    "\n",
    "from lifelines import KaplanMeierFitter\n",
    "from lifelines import CoxPHFitter\n",
    "from lifelines.statistics import proportional_hazard_test"
   ]
  },
  {
   "cell_type": "code",
   "execution_count": null,
   "id": "da424f64",
   "metadata": {},
   "outputs": [],
   "source": [
    "# KM general, other, completed, hgb deferral\n"
   ]
  },
  {
   "cell_type": "code",
   "execution_count": null,
   "id": "6720f68d",
   "metadata": {},
   "outputs": [],
   "source": [
    "# KM fixed, mobile - for the 3 categories"
   ]
  },
  {
   "cell_type": "code",
   "execution_count": null,
   "id": "5f8df8d9",
   "metadata": {},
   "outputs": [],
   "source": [
    "# KM on donation procedure"
   ]
  }
 ],
 "metadata": {
  "kernelspec": {
   "display_name": "Python 3",
   "language": "python",
   "name": "python3"
  },
  "language_info": {
   "codemirror_mode": {
    "name": "ipython",
    "version": 3
   },
   "file_extension": ".py",
   "mimetype": "text/x-python",
   "name": "python",
   "nbconvert_exporter": "python",
   "pygments_lexer": "ipython3",
   "version": "3.8.8"
  }
 },
 "nbformat": 4,
 "nbformat_minor": 5
}
