{
 "cells": [
  {
   "cell_type": "code",
   "execution_count": 40,
   "id": "1e58b34f",
   "metadata": {},
   "outputs": [
    {
     "name": "stderr",
     "output_type": "stream",
     "text": [
      "C:\\Users\\jagir\\anaconda3\\lib\\site-packages\\IPython\\core\\interactiveshell.py:3165: DtypeWarning: Columns (0) have mixed types.Specify dtype option on import or set low_memory=False.\n",
      "  has_raised = await self.run_ast_nodes(code_ast.body, cell_name,\n"
     ]
    }
   ],
   "source": [
    "#preprocessing SANBS data\n",
    "\n",
    "import pandas as pd\n",
    "import numpy as np\n",
    "import datetime as dt\n",
    "from datetime import timedelta\n",
    "\n",
    "import matplotlib.pyplot as plt\n",
    "import seaborn as sns\n",
    "\n",
    "df=pd.read_csv(\"../1_data/private/SANBSdata.csv\", error_bad_lines=False)\n"
   ]
  },
  {
   "cell_type": "code",
   "execution_count": 41,
   "id": "efb5add5",
   "metadata": {},
   "outputs": [],
   "source": [
    "\n",
    "#add a column OUTCOME_TYPE that indicates hgb deferal, other deferral or completed donation to indicate deferral type\n",
    "\n",
    "df.loc[(df['Outcome'] == 'DEFERRAL') & (df[\"category\"]=='Haematocrit/Haemoglobin'), 'OUTCOME_TYPE'] = 'low hgb'\n",
    "df.loc[(df['Outcome'] == \"SUCCESSFUL DONATION\"), 'OUTCOME_TYPE'] = 'completed'\n",
    "df.loc[(df['Outcome'] == \"DEFERRAL\") & (df[\"category\"]!='Haematocrit/Haemoglobin') , 'OUTCOME_TYPE'] = 'other deferral'\n",
    "df['OUTCOME_TYPE'].fillna(\"no draw\", inplace=True)\n",
    "\n",
    "df.drop(df[df['Visit_Date'].isna()].index, inplace=True) #remove any missing visit dates\n",
    "\n",
    "df[\"Visit_Date\"] = df[\"Visit_Date\"].astype(\"datetime64\") #convert to date time object\n",
    "\n",
    "df.sort_values(by=['DonorID', 'don_Sequence', 'Visit_Date'], axis = 0, inplace=True)\n",
    "\n"
   ]
  },
  {
   "cell_type": "code",
   "execution_count": 42,
   "id": "96b8658a",
   "metadata": {},
   "outputs": [],
   "source": [
    "\n",
    "#add censored column (indicates whether row is right censored) 0-censored, 1-notcensored\n",
    "df['CENSORED']=np.where(df['DonorID'] == df['DonorID'].shift(-1), 1, 0)\n",
    "\n",
    "#add time_to_return column (time between visits)\n",
    "#if return exists -> difference between visit dates\n",
    "#else difference between visit date and end of data collection 2022-12-31\n",
    "\n",
    "df['time_to_return']= np.where(df['CENSORED']==1, (df['Visit_Date'].shift(-1)-df['Visit_Date'])/np.timedelta64(1, 'D'), (dt.datetime(2022, 12, 31)-df[\"Visit_Date\"])/np.timedelta64(1, 'D'))\n",
    "#df['time_to_return'].fillna((df['VISIT_DATE'].shift(-1)-df[\"VISIT_DATE\"])/np.timedelta64(1, 'D'), inplace=True)\n",
    "\n",
    "#remove permanent deferrals\n",
    "df.drop(df[df.Deferral_permanent == 'Perm'].index, inplace=True)\n",
    "df.drop(df[(df['OUTCOME_TYPE'] == 'other deferral') & (df['Deferral_permanent'] == 'NoDeferral')].index, inplace=True)\n",
    "\n",
    "\n"
   ]
  },
  {
   "cell_type": "code",
   "execution_count": 43,
   "id": "36491424",
   "metadata": {},
   "outputs": [
    {
     "data": {
      "text/plain": [
       "11443"
      ]
     },
     "execution_count": 43,
     "metadata": {},
     "output_type": "execute_result"
    }
   ],
   "source": [
    "#compute time_to_return with shifts for completed donation: subtract 56 days \n",
    "\n",
    "df['time_to_return'] = np.where(df['OUTCOME_TYPE'] == 'completed', (df['time_to_return'] - 56), df['time_to_return'])\n",
    "\n",
    "#compute time_to_return with shifts for other donations\n",
    "#first covert eligibilty year and month to a datetime object\n",
    "\n",
    "df[\"Def_end\"] = df[\"Def_end\"].astype(\"datetime64\")\n",
    "\n",
    "\n",
    "df['time_to_return'] = np.where(df['OUTCOME_TYPE'] == 'low hgb', (df['time_to_return'] - ((df['Def_end'] - df['Visit_Date'])/np.timedelta64(1, 'D'))), df['time_to_return'])\n",
    "\n",
    "df['time_to_return'] = np.where(df['OUTCOME_TYPE'] == 'other deferral', (df['time_to_return'] - ((df['Def_end'] - df['Visit_Date'])/np.timedelta64(1, 'D'))), df['time_to_return'])\n",
    "df['time_to_return'].isna().sum()"
   ]
  },
  {
   "cell_type": "code",
   "execution_count": 47,
   "id": "d900c16f",
   "metadata": {
    "scrolled": false
   },
   "outputs": [
    {
     "data": {
      "text/plain": [
       "<AxesSubplot:xlabel='Fixed_mobile', ylabel='Probability'>"
      ]
     },
     "execution_count": 47,
     "metadata": {},
     "output_type": "execute_result"
    },
    {
     "data": {
      "image/png": "[encoded data removed]",
      "text/plain": [
       "<Figure size 432x288 with 1 Axes>"
      ]
     },
     "metadata": {
      "needs_background": "light"
     },
     "output_type": "display_data"
    }
   ],
   "source": [
    "#Fixed-Mobile Donations Analysis\n",
    "\n",
    "#plot number - mobile=0, fixed=1\n",
    "fixed=df[\"Fixed\"]\n",
    "#sns.histplot(df, x=\"Fixed\", stat=\"probability\")\n",
    "#sns.countplot(fixed)\n",
    "#print(fixed.value_counts())\n",
    "\n",
    "# group and remove some categories that are not fixed or mobile\n",
    "# administrative site and apheresis clinic fall under fixed\n",
    "# exclude others\n",
    "\n",
    "df.drop(df[(df['Fixed']== 'Lapsed Clinic') | (df['Fixed']=='Processing Lab')| (df['Fixed']=='Unallocated') | (df[\"Fixed\"]== 'Laboratorium') |(df[\"Fixed\"]=='Doctor')].index, inplace=True)\n",
    "\n",
    "df['Fixed_mobile'] = np.where(df['Fixed'] == 'Mobile Clinic', 'Mobile', 'Fixed')\n",
    "sns.histplot(df, x=\"Fixed_mobile\", stat=\"probability\")\n",
    "\n",
    "# percent population fixed vs mobile by year\n",
    "# - do people go back to the same mobile site?\n",
    "# - how many people never completed donation?\n"
   ]
  },
  {
   "cell_type": "code",
   "execution_count": null,
   "id": "86369fcc",
   "metadata": {},
   "outputs": [],
   "source": [
    "# Compute donation product for deferred donors - using the following criteria\n",
    " # - if donor only has WB then deferred donation is WB\n",
    " # - if next donation procedure is WB then deferred donation is WB\n",
    " # - if previous donation procedure is WB then deferred donation is WB\n",
    "    \n",
    "df['don_proc_imputed'] = np.where((df.Outcome=='DEFFERAL') & (df['DonorID'] == df['DonorID'].shift(1)) \n",
    "                                  & (df.donation_product.shift(-1) == \"WB\"), 'WB', df['donation_product'])\n",
    "    \n",
    "df['don_proc_imputed'] = np.where((df.Outcome=='DEFFERAL') & (df['DonorID'] == df['DonorID'].shift(-1)) \n",
    "                                  & (df.donation_product.shift(-1) == \"WB\"), 'WB', df['donation_product'])\n",
    "#df.loc[df['don_proc_imputed']== 'DEF PROD'].sum()\n"
   ]
  },
  {
   "cell_type": "code",
   "execution_count": 49,
   "id": "185fb6e8",
   "metadata": {},
   "outputs": [],
   "source": [
    "# documenting some errors in data\n",
    "\n",
    "df['time_to_return'].isnull().sum()\n",
    "\n",
    "df_end=df.loc[df['Visit_Date'] > df['Def_end']]\n",
    "#print(len(df_end))\n",
    "#df_end.head(25).to_csv('../4_output/def_end_error.csv')\n",
    "\n",
    "df_def=df.loc[(df['Deferral_permanent'] == 'NoDeferral') & (df['OUTCOME_TYPE'] == \"other deferral\")]\n",
    "#df_def.head(25).to_csv('../4_output/def_permanent_error.csv')\n",
    "\n",
    "#df_neg=df.loc[ (df['time_to_return']<0)]\n",
    "\n",
    "#print(len(df_neg))\n",
    "#df_neg.head(-25)"
   ]
  },
  {
   "cell_type": "code",
   "execution_count": 5,
   "id": "4af63afc",
   "metadata": {},
   "outputs": [],
   "source": [
    "df.to_csv((\"../1_data/private/preprocessed_data.csv\"), index=False)\n"
   ]
  }
 ],
 "metadata": {
  "kernelspec": {
   "display_name": "Python 3",
   "language": "python",
   "name": "python3"
  },
  "language_info": {
   "codemirror_mode": {
    "name": "ipython",
    "version": 3
   },
   "file_extension": ".py",
   "mimetype": "text/x-python",
   "name": "python",
   "nbconvert_exporter": "python",
   "pygments_lexer": "ipython3",
   "version": "3.8.8"
  },
  "vscode": {
   "interpreter": {
    "hash": "5ceecb7da2aafc3df56a72e3d5d21f12f2307c7cf9b9b8f49c6cfc619e649209"
   }
  }
 },
 "nbformat": 4,
 "nbformat_minor": 5
}
