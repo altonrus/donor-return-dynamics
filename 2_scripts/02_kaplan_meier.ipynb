{
 "cells": [
  {
   "cell_type": "code",
   "execution_count": 4,
   "id": "a68aa7fa",
   "metadata": {},
   "outputs": [
    {
     "name": "stderr",
     "output_type": "stream",
     "text": [
      "c:\\Users\\jagir\\anaconda3\\lib\\site-packages\\IPython\\core\\interactiveshell.py:3165: DtypeWarning: Columns (15) have mixed types.Specify dtype option on import or set low_memory=False.\n",
      "  has_raised = await self.run_ast_nodes(code_ast.body, cell_name,\n"
     ]
    }
   ],
   "source": [
    "# Performing survival analysis using Kaplan Meier method\n",
    "\n",
    "import pandas as pd\n",
    "import numpy as np\n",
    "import datetime as dt\n",
    "from datetime import timedelta\n",
    "\n",
    "import matplotlib.pyplot as plt\n",
    "import seaborn as sns\n",
    "\n",
    "from lifelines import KaplanMeierFitter\n",
    "from lifelines import CoxPHFitter\n",
    "from lifelines.statistics import proportional_hazard_test\n",
    "\n",
    "df=pd.read_csv(\"../1_data/private/preprocessed_data.csv\")\n"
   ]
  },
  {
   "cell_type": "code",
   "execution_count": 5,
   "id": "da424f64",
   "metadata": {},
   "outputs": [],
   "source": [
    "\n",
    "#Survival Analysis\n",
    "\n",
    "#KAPLAN MEIER CURVE BASED ON DEFERRAL TYPE\n",
    "\n",
    "#whole blood donation based on deferral type (hgb deferral, other, completed donation - no deferral)\n",
    "\n",
    "#create new dataframe with only WB donations\n",
    "\n",
    "df_wb = df.drop(df[df.donation_product != \"WB\"].index)\n",
    "\n",
    "#create fitter objects for the 3 types\n",
    "kmf_hgb= KaplanMeierFitter()\n",
    "kmf_other=KaplanMeierFitter()\n",
    "kmf_comp=KaplanMeierFitter()\n",
    "\n",
    "#divide data into 3 groups based on deferral type\n",
    "hgb_def=df.query(\"OUTCOME_TYPE == 'low hgb'\")\n",
    "other_def=df.query(\"OUTCOME_TYPE == 'other deferral'\")\n",
    "comp_don=df.query(\"OUTCOME_TYPE == 'completed'\")\n"
   ]
  },
  {
   "cell_type": "code",
   "execution_count": 6,
   "id": "96bb6c6f",
   "metadata": {},
   "outputs": [
    {
     "ename": "TypeError",
     "evalue": "NaNs were detected in the dataset. Try using pd.isnull to find the problematic values.",
     "output_type": "error",
     "traceback": [
      "\u001b[1;31m---------------------------------------------------------------------------\u001b[0m",
      "\u001b[1;31mTypeError\u001b[0m                                 Traceback (most recent call last)",
      "\u001b[1;32m<ipython-input-6-7e6f7de290c5>\u001b[0m in \u001b[0;36m<module>\u001b[1;34m\u001b[0m\n\u001b[0;32m      1\u001b[0m \u001b[1;31m#fiiting the curves\u001b[0m\u001b[1;33m\u001b[0m\u001b[1;33m\u001b[0m\u001b[1;33m\u001b[0m\u001b[0m\n\u001b[0;32m      2\u001b[0m \u001b[0mkmf_hgb\u001b[0m\u001b[1;33m.\u001b[0m\u001b[0mfit\u001b[0m\u001b[1;33m(\u001b[0m\u001b[0mdurations\u001b[0m \u001b[1;33m=\u001b[0m  \u001b[0mhgb_def\u001b[0m\u001b[1;33m[\u001b[0m\u001b[1;34m\"time_to_return\"\u001b[0m\u001b[1;33m]\u001b[0m\u001b[1;33m,\u001b[0m\u001b[0mevent_observed\u001b[0m \u001b[1;33m=\u001b[0m \u001b[0mhgb_def\u001b[0m\u001b[1;33m[\u001b[0m\u001b[1;34m\"CENSORED\"\u001b[0m\u001b[1;33m]\u001b[0m \u001b[1;33m,\u001b[0m\u001b[0mlabel\u001b[0m\u001b[1;33m=\u001b[0m\u001b[1;34m\"HGB Deferral\"\u001b[0m\u001b[1;33m)\u001b[0m\u001b[1;33m\u001b[0m\u001b[1;33m\u001b[0m\u001b[0m\n\u001b[1;32m----> 3\u001b[1;33m \u001b[0mkmf_other\u001b[0m\u001b[1;33m.\u001b[0m\u001b[0mfit\u001b[0m\u001b[1;33m(\u001b[0m\u001b[0mdurations\u001b[0m \u001b[1;33m=\u001b[0m  \u001b[0mother_def\u001b[0m\u001b[1;33m[\u001b[0m\u001b[1;34m\"time_to_return\"\u001b[0m\u001b[1;33m]\u001b[0m\u001b[1;33m,\u001b[0m\u001b[0mevent_observed\u001b[0m \u001b[1;33m=\u001b[0m \u001b[0mother_def\u001b[0m\u001b[1;33m[\u001b[0m\u001b[1;34m\"CENSORED\"\u001b[0m\u001b[1;33m]\u001b[0m\u001b[1;33m,\u001b[0m \u001b[0mlabel\u001b[0m\u001b[1;33m=\u001b[0m\u001b[1;34m\"Other Deferral\"\u001b[0m\u001b[1;33m)\u001b[0m\u001b[1;33m\u001b[0m\u001b[1;33m\u001b[0m\u001b[0m\n\u001b[0m\u001b[0;32m      4\u001b[0m \u001b[0mkmf_comp\u001b[0m\u001b[1;33m.\u001b[0m\u001b[0mfit\u001b[0m\u001b[1;33m(\u001b[0m\u001b[0mdurations\u001b[0m \u001b[1;33m=\u001b[0m  \u001b[0mcomp_don\u001b[0m\u001b[1;33m[\u001b[0m\u001b[1;34m\"time_to_return\"\u001b[0m\u001b[1;33m]\u001b[0m\u001b[1;33m,\u001b[0m\u001b[0mevent_observed\u001b[0m \u001b[1;33m=\u001b[0m \u001b[0mcomp_don\u001b[0m\u001b[1;33m[\u001b[0m\u001b[1;34m\"CENSORED\"\u001b[0m\u001b[1;33m]\u001b[0m\u001b[1;33m,\u001b[0m \u001b[0mlabel\u001b[0m\u001b[1;33m=\u001b[0m\u001b[1;34m\"Completed Donation\"\u001b[0m\u001b[1;33m)\u001b[0m\u001b[1;33m\u001b[0m\u001b[1;33m\u001b[0m\u001b[0m\n\u001b[0;32m      5\u001b[0m \u001b[1;33m\u001b[0m\u001b[0m\n",
      "\u001b[1;32mc:\\Users\\jagir\\anaconda3\\lib\\site-packages\\lifelines\\utils\\__init__.py\u001b[0m in \u001b[0;36mf\u001b[1;34m(model, *args, **kwargs)\u001b[0m\n\u001b[0;32m     54\u001b[0m         \u001b[1;32mdef\u001b[0m \u001b[0mf\u001b[0m\u001b[1;33m(\u001b[0m\u001b[0mmodel\u001b[0m\u001b[1;33m,\u001b[0m \u001b[1;33m*\u001b[0m\u001b[0margs\u001b[0m\u001b[1;33m,\u001b[0m \u001b[1;33m**\u001b[0m\u001b[0mkwargs\u001b[0m\u001b[1;33m)\u001b[0m\u001b[1;33m:\u001b[0m\u001b[1;33m\u001b[0m\u001b[1;33m\u001b[0m\u001b[0m\n\u001b[0;32m     55\u001b[0m             \u001b[0mcls\u001b[0m\u001b[1;33m.\u001b[0m\u001b[0mset_censoring_type\u001b[0m\u001b[1;33m(\u001b[0m\u001b[0mmodel\u001b[0m\u001b[1;33m,\u001b[0m \u001b[0mcls\u001b[0m\u001b[1;33m.\u001b[0m\u001b[0mRIGHT\u001b[0m\u001b[1;33m)\u001b[0m\u001b[1;33m\u001b[0m\u001b[1;33m\u001b[0m\u001b[0m\n\u001b[1;32m---> 56\u001b[1;33m             \u001b[1;32mreturn\u001b[0m \u001b[0mfunction\u001b[0m\u001b[1;33m(\u001b[0m\u001b[0mmodel\u001b[0m\u001b[1;33m,\u001b[0m \u001b[1;33m*\u001b[0m\u001b[0margs\u001b[0m\u001b[1;33m,\u001b[0m \u001b[1;33m**\u001b[0m\u001b[0mkwargs\u001b[0m\u001b[1;33m)\u001b[0m\u001b[1;33m\u001b[0m\u001b[1;33m\u001b[0m\u001b[0m\n\u001b[0m\u001b[0;32m     57\u001b[0m \u001b[1;33m\u001b[0m\u001b[0m\n\u001b[0;32m     58\u001b[0m         \u001b[1;32mreturn\u001b[0m \u001b[0mf\u001b[0m\u001b[1;33m\u001b[0m\u001b[1;33m\u001b[0m\u001b[0m\n",
      "\u001b[1;32mc:\\Users\\jagir\\anaconda3\\lib\\site-packages\\lifelines\\fitters\\kaplan_meier_fitter.py\u001b[0m in \u001b[0;36mfit\u001b[1;34m(self, durations, event_observed, timeline, entry, label, alpha, ci_labels, weights, fit_options)\u001b[0m\n\u001b[0;32m    125\u001b[0m         \"\"\"\n\u001b[0;32m    126\u001b[0m \u001b[1;33m\u001b[0m\u001b[0m\n\u001b[1;32m--> 127\u001b[1;33m         \u001b[1;32mreturn\u001b[0m \u001b[0mself\u001b[0m\u001b[1;33m.\u001b[0m\u001b[0m_fit\u001b[0m\u001b[1;33m(\u001b[0m\u001b[0mdurations\u001b[0m\u001b[1;33m,\u001b[0m \u001b[0mevent_observed\u001b[0m\u001b[1;33m,\u001b[0m \u001b[0mtimeline\u001b[0m\u001b[1;33m,\u001b[0m \u001b[0mentry\u001b[0m\u001b[1;33m,\u001b[0m \u001b[0mlabel\u001b[0m\u001b[1;33m,\u001b[0m \u001b[0malpha\u001b[0m\u001b[1;33m,\u001b[0m \u001b[0mci_labels\u001b[0m\u001b[1;33m,\u001b[0m \u001b[0mweights\u001b[0m\u001b[1;33m)\u001b[0m\u001b[1;33m\u001b[0m\u001b[1;33m\u001b[0m\u001b[0m\n\u001b[0m\u001b[0;32m    128\u001b[0m \u001b[1;33m\u001b[0m\u001b[0m\n\u001b[0;32m    129\u001b[0m     \u001b[1;33m@\u001b[0m\u001b[0mCensoringType\u001b[0m\u001b[1;33m.\u001b[0m\u001b[0minterval_censoring\u001b[0m\u001b[1;33m\u001b[0m\u001b[1;33m\u001b[0m\u001b[0m\n",
      "\u001b[1;32mc:\\Users\\jagir\\anaconda3\\lib\\site-packages\\lifelines\\fitters\\kaplan_meier_fitter.py\u001b[0m in \u001b[0;36m_fit\u001b[1;34m(self, durations, event_observed, timeline, entry, label, alpha, ci_labels, weights)\u001b[0m\n\u001b[0;32m    325\u001b[0m         \"\"\"\n\u001b[0;32m    326\u001b[0m         \u001b[0mdurations\u001b[0m \u001b[1;33m=\u001b[0m \u001b[0mnp\u001b[0m\u001b[1;33m.\u001b[0m\u001b[0masarray\u001b[0m\u001b[1;33m(\u001b[0m\u001b[0mdurations\u001b[0m\u001b[1;33m)\u001b[0m\u001b[1;33m\u001b[0m\u001b[1;33m\u001b[0m\u001b[0m\n\u001b[1;32m--> 327\u001b[1;33m         \u001b[0mself\u001b[0m\u001b[1;33m.\u001b[0m\u001b[0m_check_values\u001b[0m\u001b[1;33m(\u001b[0m\u001b[0mdurations\u001b[0m\u001b[1;33m)\u001b[0m\u001b[1;33m\u001b[0m\u001b[1;33m\u001b[0m\u001b[0m\n\u001b[0m\u001b[0;32m    328\u001b[0m \u001b[1;33m\u001b[0m\u001b[0m\n\u001b[0;32m    329\u001b[0m         \u001b[1;32mif\u001b[0m \u001b[0mevent_observed\u001b[0m \u001b[1;32mis\u001b[0m \u001b[1;32mnot\u001b[0m \u001b[1;32mNone\u001b[0m\u001b[1;33m:\u001b[0m\u001b[1;33m\u001b[0m\u001b[1;33m\u001b[0m\u001b[0m\n",
      "\u001b[1;32mc:\\Users\\jagir\\anaconda3\\lib\\site-packages\\lifelines\\fitters\\kaplan_meier_fitter.py\u001b[0m in \u001b[0;36m_check_values\u001b[1;34m(self, array)\u001b[0m\n\u001b[0;32m    401\u001b[0m \u001b[1;33m\u001b[0m\u001b[0m\n\u001b[0;32m    402\u001b[0m     \u001b[1;32mdef\u001b[0m \u001b[0m_check_values\u001b[0m\u001b[1;33m(\u001b[0m\u001b[0mself\u001b[0m\u001b[1;33m,\u001b[0m \u001b[0marray\u001b[0m\u001b[1;33m)\u001b[0m\u001b[1;33m:\u001b[0m\u001b[1;33m\u001b[0m\u001b[1;33m\u001b[0m\u001b[0m\n\u001b[1;32m--> 403\u001b[1;33m         \u001b[0mcheck_nans_or_infs\u001b[0m\u001b[1;33m(\u001b[0m\u001b[0marray\u001b[0m\u001b[1;33m)\u001b[0m\u001b[1;33m\u001b[0m\u001b[1;33m\u001b[0m\u001b[0m\n\u001b[0m\u001b[0;32m    404\u001b[0m \u001b[1;33m\u001b[0m\u001b[0m\n\u001b[0;32m    405\u001b[0m     \u001b[1;32mdef\u001b[0m \u001b[0mplot_loglogs\u001b[0m\u001b[1;33m(\u001b[0m\u001b[0mself\u001b[0m\u001b[1;33m,\u001b[0m \u001b[1;33m*\u001b[0m\u001b[0margs\u001b[0m\u001b[1;33m,\u001b[0m \u001b[1;33m**\u001b[0m\u001b[0mkwargs\u001b[0m\u001b[1;33m)\u001b[0m\u001b[1;33m:\u001b[0m\u001b[1;33m\u001b[0m\u001b[1;33m\u001b[0m\u001b[0m\n",
      "\u001b[1;32mc:\\Users\\jagir\\anaconda3\\lib\\site-packages\\lifelines\\utils\\__init__.py\u001b[0m in \u001b[0;36mcheck_nans_or_infs\u001b[1;34m(df_or_array)\u001b[0m\n\u001b[0;32m   1176\u001b[0m \u001b[1;33m\u001b[0m\u001b[0m\n\u001b[0;32m   1177\u001b[0m     \u001b[1;32mif\u001b[0m \u001b[0mpd\u001b[0m\u001b[1;33m.\u001b[0m\u001b[0misnull\u001b[0m\u001b[1;33m(\u001b[0m\u001b[0mdf_or_array\u001b[0m\u001b[1;33m)\u001b[0m\u001b[1;33m.\u001b[0m\u001b[0many\u001b[0m\u001b[1;33m(\u001b[0m\u001b[1;33m)\u001b[0m\u001b[1;33m:\u001b[0m\u001b[1;33m\u001b[0m\u001b[1;33m\u001b[0m\u001b[0m\n\u001b[1;32m-> 1178\u001b[1;33m         \u001b[1;32mraise\u001b[0m \u001b[0mTypeError\u001b[0m\u001b[1;33m(\u001b[0m\u001b[1;34m\"NaNs were detected in the dataset. Try using pd.isnull to find the problematic values.\"\u001b[0m\u001b[1;33m)\u001b[0m\u001b[1;33m\u001b[0m\u001b[1;33m\u001b[0m\u001b[0m\n\u001b[0m\u001b[0;32m   1179\u001b[0m \u001b[1;33m\u001b[0m\u001b[0m\n\u001b[0;32m   1180\u001b[0m     \u001b[1;32mtry\u001b[0m\u001b[1;33m:\u001b[0m\u001b[1;33m\u001b[0m\u001b[1;33m\u001b[0m\u001b[0m\n",
      "\u001b[1;31mTypeError\u001b[0m: NaNs were detected in the dataset. Try using pd.isnull to find the problematic values."
     ]
    }
   ],
   "source": [
    "#fiiting the curves\n",
    "kmf_hgb.fit(durations =  hgb_def[\"time_to_return\"],event_observed = hgb_def[\"CENSORED\"] ,label=\"HGB Deferral\")\n",
    "kmf_other.fit(durations =  other_def[\"time_to_return\"],event_observed = other_def[\"CENSORED\"], label=\"Other Deferral\")\n",
    "kmf_comp.fit(durations =  comp_don[\"time_to_return\"],event_observed = comp_don[\"CENSORED\"], label=\"Completed Donation\")\n",
    "\n",
    "#plot survival function data\n",
    "kmf_hgb.plot()\n",
    "kmf_other.plot()\n",
    "kmf_comp.plot()\n",
    "plt.axis([0, 400, 0, 1])\n",
    "plt.xlabel(\"Days passed\")\n",
    "plt.ylabel(\"Return\")\n",
    "plt.title(\"Kaplan-Meier Function of time to return\")\n",
    "\n",
    "#plot cumulative density functions\n",
    "plt.figure()\n",
    "kmf_hgb.plot_cumulative_density()\n",
    "kmf_other.plot_cumulative_density()\n",
    "kmf_comp.plot_cumulative_density()\n",
    "plt.axis([0, 400, 0, 1])\n",
    "plt.ylabel(\"Return\")\n",
    "plt.xlabel(\"Time to return\")\n",
    "plt.title(\"Cumulative density function of time to return\")"
   ]
  },
  {
   "cell_type": "code",
   "execution_count": 9,
   "id": "6720f68d",
   "metadata": {},
   "outputs": [],
   "source": [
    "# KM fixed, mobile - for the 3 categories\n",
    "\n",
    "#Kaplen Meier return after donation at fixed site and after donation at mobile site\n",
    "\n",
    "#creating fitter objects\n",
    "\n",
    "#for fixed\n",
    "kmf_hgb_f= KaplanMeierFitter()\n",
    "kmf_other_f=KaplanMeierFitter()\n",
    "kmf_comp_f=KaplanMeierFitter()\n",
    "\n",
    "#for mobile\n",
    "kmf_hgb_m= KaplanMeierFitter()\n",
    "kmf_other_m=KaplanMeierFitter()\n",
    "kmf_comp_m=KaplanMeierFitter()\n",
    "\n",
    "#divide data respectively\n",
    "\n",
    "fixed= df.query(\"OUTCOME_TYPE == 'Fixed Clinic'\")\n",
    "mobile= df.query(\"OUTCOME_TYPE == 'Mobile Clinic'\")\n",
    "\n",
    "hgb_def_f=fixed.query(\"OUTCOME_TYPE == 'low hgb'\")\n",
    "other_def_f=fixed.query(\"OUTCOME_TYPE == 'other deferral'\")\n",
    "comp_don_f=fixed.query(\"OUTCOME_TYPE == 'completed'\")\n",
    "\n",
    "hgb_def_m=mobile.query(\"OUTCOME_TYPE == 'low hgb'\")\n",
    "other_def_m=mobile.query(\"OUTCOME_TYPE == 'other deferral'\")\n",
    "comp_don_m=mobile.query(\"OUTCOME_TYPE == 'completed'\")"
   ]
  },
  {
   "cell_type": "code",
   "execution_count": null,
   "id": "8671bbed",
   "metadata": {},
   "outputs": [],
   "source": [
    "#fit the curves for fixed\n",
    "kmf_hgb_f.fit(durations =  hgb_def_f[\"time_to_return\"],event_observed = hgb_def_f[\"CENSORED\"] ,label=\"HGB Deferral\")\n",
    "kmf_other_f.fit(durations =  other_def_f[\"time_to_return\"],event_observed = other_def_f[\"CENSORED\"], label=\"Other Deferral\")\n",
    "kmf_comp_f.fit(durations =  comp_don_f[\"time_to_return\"],event_observed = comp_don_f[\"CENSORED\"], label=\"Completed Donation\")\n",
    "\n",
    "#fit curves for mobile\n",
    "kmf_hgb_m.fit(durations =  hgb_def_m[\"time_to_return\"],event_observed = hgb_def_m[\"CENSORED\"] ,label=\"HGB Deferral\")\n",
    "kmf_other_m.fit(durations =  other_def_m[\"time_to_return\"],event_observed = other_def_m[\"CENSORED\"], label=\"Other Deferral\")\n",
    "kmf_comp_m.fit(durations =  comp_don_m[\"time_to_return\"],event_observed = comp_don_m[\"CENSORED\"], label=\"Completed Donation\")\n",
    "\n",
    "#plot figures:\n",
    "\n",
    "kmf_hgb_f.plot()\n",
    "kmf_other_f.plot()\n",
    "kmf_comp_f.plot()\n",
    "plt.axis([0, 400, 0, 1])\n",
    "plt.xlabel(\"Days passed\")\n",
    "plt.ylabel(\"Return\")\n",
    "plt.title(\"Kaplan-Meier Function of time to return after donation at a fixed clinic\")\n",
    "\n",
    "plt.figure()\n",
    "kmf_hgb_m.plot()\n",
    "kmf_other_m.plot()\n",
    "kmf_comp_m.plot()\n",
    "plt.axis([0, 400, 0, 1])\n",
    "plt.xlabel(\"Days passed\")\n",
    "plt.ylabel(\"Return\")\n",
    "plt.title(\"Kaplan-Meier Function of time to return after donation at a mobile clinic\")\n"
   ]
  },
  {
   "cell_type": "code",
   "execution_count": null,
   "id": "5f8df8d9",
   "metadata": {},
   "outputs": [],
   "source": [
    "# KM on fixed-mobile pattern\n",
    "\n"
   ]
  }
 ],
 "metadata": {
  "kernelspec": {
   "display_name": "Python 3.8.8 ('base')",
   "language": "python",
   "name": "python3"
  },
  "language_info": {
   "codemirror_mode": {
    "name": "ipython",
    "version": 3
   },
   "file_extension": ".py",
   "mimetype": "text/x-python",
   "name": "python",
   "nbconvert_exporter": "python",
   "pygments_lexer": "ipython3",
   "version": "3.8.8 (default, Apr 13 2021, 15:08:03) [MSC v.1916 64 bit (AMD64)]"
  },
  "vscode": {
   "interpreter": {
    "hash": "5ceecb7da2aafc3df56a72e3d5d21f12f2307c7cf9b9b8f49c6cfc619e649209"
   }
  }
 },
 "nbformat": 4,
 "nbformat_minor": 5
}
