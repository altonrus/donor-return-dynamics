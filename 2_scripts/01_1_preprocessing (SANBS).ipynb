{
 "cells": [
  {
   "cell_type": "code",
   "execution_count": 1,
   "id": "1e58b34f",
   "metadata": {},
   "outputs": [
    {
     "data": {
      "text/plain": [
       "5115926"
      ]
     },
     "execution_count": 1,
     "metadata": {},
     "output_type": "execute_result"
    }
   ],
   "source": [
    "#preprocessing SANBS data\n",
    "\n",
    "import pandas as pd\n",
    "import numpy as np\n",
    "import datetime as dt\n",
    "from datetime import timedelta\n",
    "\n",
    "import matplotlib.pyplot as plt\n",
    "import seaborn as sns\n",
    "\n",
    "import warnings\n",
    "\n",
    "warnings.filterwarnings('ignore')\n",
    "\n",
    "df=pd.read_csv(\"../1_data/private/SANBSdata.csv\")\n",
    "len(df)"
   ]
  },
  {
   "cell_type": "code",
   "execution_count": 2,
   "id": "61d35b10-43b9-4861-b0d9-ed83cbdef907",
   "metadata": {},
   "outputs": [],
   "source": [
    "#merge with don hist\n",
    "\n",
    "df['Visit_Date']=pd.to_datetime(df['Visit_Date']).dt.strftime('%Y-%m-%dT%H:%M:%SZ') #covert to ISO -#2019-03-26T00:00:00Z\\n\",\n",
    "don_hist=pd.read_csv(\"../1_data/private/don_hist2.csv\")\n",
    "\n",
    "df=pd.merge(df, don_hist[['DonorID', 'Visit_Date','rbc_loss_last_12_months', 'rbc_loss_last_24_months']], how='left', on=[\"DonorID\", \"Visit_Date\"])\n",
    "\n"
   ]
  },
  {
   "cell_type": "code",
   "execution_count": 4,
   "id": "efb5add5",
   "metadata": {},
   "outputs": [],
   "source": [
    "#drop theraputic donations\n",
    "\n",
    "df.drop(df[(df['Outcome'] == 'THERAPEUTIC')].index, inplace=True)\n",
    "\n",
    "#add a column OUTCOME_TYPE that indicates hgb deferal, other deferral or completed donation to indicate deferral type\n",
    "\n",
    "df.loc[ (df['Outcome'] == 'DEFERRAL') &(df[\"category\"]=='Haematocrit/Haemoglobin'), 'OUTCOME_TYPE'] = 'low hgb'\n",
    "df.loc[(df['Outcome'] == \"SUCCESSFUL DONATION\"), 'OUTCOME_TYPE'] = 'completed'\n",
    "df.loc[(df['Outcome'] == \"DEFERRAL\") & (df[\"category\"]!='Haematocrit/Haemoglobin') , 'OUTCOME_TYPE'] = 'other deferral'\n",
    "df['OUTCOME_TYPE'].fillna(\"no draw\", inplace=True)\n",
    "\n",
    "df.drop(df[df['Visit_Date'].isna()].index, inplace=True) #remove any missing visit dates\n",
    "\n",
    "df[\"Visit_Date\"] = df[\"Visit_Date\"].astype(\"datetime64\") #convert to date time object\n",
    "\n",
    "df.sort_values(by=['DonorID', 'don_Sequence', 'Visit_Date'], axis = 0, inplace=True)\n"
   ]
  },
  {
   "cell_type": "code",
   "execution_count": 5,
   "id": "96b8658a",
   "metadata": {},
   "outputs": [],
   "source": [
    "\n",
    "#add censored column (indicates whether row is right censored) 0-censored, 1-notcensored\n",
    "df['CENSORED']=np.where(df['DonorID'] == df['DonorID'].shift(-1), 1, 0)\n",
    "\n",
    "#add time_to_return column (time between visits)\n",
    "#if return exists -> difference between visit dates\n",
    "#else difference between visit date and end of data collection 2022-12-31\n",
    "\n",
    "df['time_to_return']= np.where(df['CENSORED']==1, (df['Visit_Date'].shift(-1)-df['Visit_Date'])/np.timedelta64(1, 'D'), (dt.datetime(2022, 12, 31) - df[\"Visit_Date\"])/np.timedelta64(1, 'D'))\n"
   ]
  },
  {
   "cell_type": "code",
   "execution_count": 6,
   "id": "18772a15",
   "metadata": {},
   "outputs": [
    {
     "data": {
      "image/png": "[encoded data removed]",
      "text/plain": [
       "<Figure size 576x432 with 1 Axes>"
      ]
     },
     "metadata": {
      "needs_background": "light"
     },
     "output_type": "display_data"
    },
    {
     "name": "stdout",
     "output_type": "stream",
     "text": [
      "0\n"
     ]
    }
   ],
   "source": [
    "\n",
    "# Create a boxplot to see dictribution of retunr time before subtracting ineligible period\n",
    "plt.figure(figsize=(8, 6))\n",
    "plt.boxplot([df[df['OUTCOME_TYPE'] == 'completed']['time_to_return'],\n",
    "             df[df['OUTCOME_TYPE'] == 'low hgb']['time_to_return']],\n",
    "            labels=['completed', 'low hgb'])\n",
    "\n",
    "plt.xlabel('Category')\n",
    "plt.ylabel('Return Time')\n",
    "plt.title('Distribution of Return Times')\n",
    "plt.show()\n",
    "\n",
    "df_end=df.loc[df['time_to_return'] <0]\n",
    "print(len(df_end))\n"
   ]
  },
  {
   "cell_type": "code",
   "execution_count": 7,
   "id": "4f4da161-a33b-440e-8c6a-c2a176c5738e",
   "metadata": {},
   "outputs": [],
   "source": [
    "#remove outcomes with def_end < visit_date\n",
    "df.drop(df[df['Visit_Date'] > df['Def_end']].index, inplace=True)\n"
   ]
  },
  {
   "cell_type": "code",
   "execution_count": 8,
   "id": "0181b00d-80f7-4ee6-a8c5-61e08a345c31",
   "metadata": {},
   "outputs": [],
   "source": [
    "#remove permanent deferrals\n",
    "df.drop(df[df.Deferral_permanent == 'Perm'].index, inplace=True)\n",
    "df.drop(df[(df['OUTCOME_TYPE'] == 'other deferral') & (df['Deferral_permanent'] == 'NoDeferral')].index, inplace=True)\n",
    "\n"
   ]
  },
  {
   "cell_type": "code",
   "execution_count": 9,
   "id": "b0f7b434-4635-4085-8223-6f02461a6889",
   "metadata": {},
   "outputs": [],
   "source": [
    "#compute time_to_return with shifts for completed donation: subtract 56 days \n",
    "df['time_to_return2']=df['time_to_return']\n",
    "\n",
    "df['time_to_return'] = np.where(df['OUTCOME_TYPE'] == 'completed', (df['time_to_return2'] - 56) , df['time_to_return'])\n",
    "\n",
    "#end of data collection\n",
    "#df['time_to_return']=np.where((df['time_to_return'] < 0)& (df.OUTCOME_TYPE=='completed') , df['time_to_return2'], df['time_to_return'])\n",
    "\n",
    "#compute time_to_return with shifts for other donations\n",
    "#first covert eligibilty year and month to a datetime object\n",
    "\n",
    "df[\"Def_end\"] = df[\"Def_end\"].astype(\"datetime64\")\n",
    "df['def_Year'] = df['Def_end'].dt.year  \n",
    "#df['Def_end'].isna().sum()\n",
    "\n",
    "#hgb deferrals\n",
    "df['time_to_return'] = np.where((df['OUTCOME_TYPE'] == 'low hgb') & (df['def_Year']< 2023) , (df['time_to_return2'] - ((df['Def_end'] - df['Visit_Date'])/np.timedelta64(1, 'D'))), df['time_to_return'])\n",
    "\n",
    "#other deferrals\n",
    "df['time_to_return'] = np.where((df['OUTCOME_TYPE'] == 'other deferral') & (df['def_Year'] < 2023), (df['time_to_return2'] - ((df['Def_end'] - df['Visit_Date'])/np.timedelta64(1, 'D'))), df['time_to_return'])\n",
    "df['time_to_return'].isna().sum()\n",
    "\n",
    "#drop individuals who returned before end of eligibility period\n",
    "df.drop(df[(df.time_to_return<0)].index, inplace =True)\n"
   ]
  },
  {
   "cell_type": "code",
   "execution_count": 10,
   "id": "189e048d-2454-4caf-8b5d-d6e3afcd5495",
   "metadata": {},
   "outputs": [],
   "source": [
    "# add variable first time -> 1- first time, 0-repeat\n",
    "\n",
    "df['first_time'] = np.where((df['don_Sequence'] == 1.0) & (df['don_Sequence'].shift(1)!=1.0) & (df['DonorID'] != df['DonorID'].shift(1)), 1, 0)\n",
    "\n",
    "# make age categorical - high school age\n",
    "df['high_school_age']=np.where(df['Visit_Age']<=20, 1, 0)\n",
    "\n",
    "#add donor history\n",
    "df['cum_lifetime_donations']=df['don_Sequence']\n"
   ]
  },
  {
   "cell_type": "code",
   "execution_count": 11,
   "id": "d900c16f",
   "metadata": {},
   "outputs": [],
   "source": [
    "#Fixed-Mobile Donations Analysis\n",
    "\n",
    "#plot number - mobile=0, fixed=1\n",
    "fixed=df[\"Fixed\"]\n",
    "#sns.histplot(df, x=\"Fixed\", stat=\"probability\")\n",
    "#sns.countplot(fixed)\n",
    "#print(fixed.value_counts())\n",
    "\n",
    "# group and remove some categories that are not fixed or mobile\n",
    "# administrative site and apheresis clinic fall under fixed\n",
    "# exclude others\n",
    "\n",
    "df.drop(df[(df['Fixed']== 'Lapsed Clinic') | (df['Fixed']=='Processing Lab')| (df['Fixed']=='Unallocated') \n",
    "           | (df[\"Fixed\"]== 'Laboratorium') |(df[\"Fixed\"]=='Doctor')].index, inplace=True)\n",
    "\n",
    "df['Fixed_mobile'] = np.where(df['Fixed'] == 'Mobile Clinic', 0, 1) #mobile is 0, fixed is 1\n",
    "\n",
    "\n",
    "#create a column to indicate \n",
    "    #1. mobile then mobile - mm\n",
    "    #2. mobile then fixed -mf\n",
    "    #3. fixed then fixed - ff\n",
    "    #4. fixed then mobile - fm\n",
    "\n",
    "df[\"FIXED_NEXT\"] = np.where(df['DonorID'] == df['DonorID'].shift(-1), df['Fixed_mobile'].shift(-1), 10)\n",
    "df.loc[((df['FIXED_NEXT']== 1) & (df['Fixed_mobile']== 1)), 'fixed_mobile_pattern'] = 'FF'\n",
    "\n",
    "df.loc[((df['FIXED_NEXT']==0) & (df['Fixed_mobile']== 0)), 'fixed_mobile_pattern']= 'MM'\n",
    "\n",
    "df.loc[((df['FIXED_NEXT']==0) & (df['Fixed_mobile']== 1)), 'fixed_mobile_pattern'] = 'FM'\n",
    "\n",
    "df.loc[((df['FIXED_NEXT']==1) & (df['Fixed_mobile']== 0)), 'fixed_mobile_pattern']= 'MF'\n",
    "df['fixed_mobile_pattern'].fillna('last', inplace=True)\n",
    "\n"
   ]
  },
  {
   "cell_type": "code",
   "execution_count": 12,
   "id": "a6db2c66-6536-4a28-8629-64fff06a06b6",
   "metadata": {},
   "outputs": [],
   "source": [
    "# create a events column to generate cause specific Cumulative incidence functions\n",
    "# competing events are - return to mobile, return to fixed\n",
    "\n",
    "df['competing_events'] = np.where((df['fixed_mobile_pattern']==\"MF\")|(df['fixed_mobile_pattern']==\"FF\"), 1, 2)\n",
    "df['competing_events'] = np.where((df['fixed_mobile_pattern']==\"last\"), 0, df['competing_events'])"
   ]
  },
  {
   "cell_type": "code",
   "execution_count": 14,
   "id": "9238ef37-31ba-4c04-a244-f210d09aaa9b",
   "metadata": {},
   "outputs": [],
   "source": [
    "df.loc[(df['donation_product'] == 'WB')|\n",
    "           (df['donation_product'] == 'WBSB')| (df['donation_product'] == 'WBMED')| (df['donation_product'] == 'WBDISC')\n",
    "           |( df['donation_product'] == 'WBOB') |(df['donation_product'] == 'WBDP') | (df['donation_product'] == 'WBD') ,\n",
    "           'donation_product']='WB'\n",
    "\n",
    "\n"
   ]
  },
  {
   "cell_type": "code",
   "execution_count": 15,
   "id": "02c2d2cb-2734-4270-94ad-da28cf55a696",
   "metadata": {},
   "outputs": [
    {
     "data": {
      "text/plain": [
       "Opos     2246503\n",
       "Apos     1224213\n",
       "Bpos      720240\n",
       "Oneg      283142\n",
       "ABpos     173497\n",
       "Aneg      139771\n",
       "Bneg       63377\n",
       "ABneg      17275\n",
       "UNK         1256\n",
       "Name: ABO_RH, dtype: int64"
      ]
     },
     "execution_count": 15,
     "metadata": {},
     "output_type": "execute_result"
    }
   ],
   "source": [
    "#recode ABO_RH\n",
    "df.loc[df['ABO_RH'] == 'A2BPOS', 'ABO_RH'] = 'ABpos'\n",
    "df.loc[df['ABO_RH'] == 'A2NEG', 'ABO_RH'] = 'Aneg'\n",
    "df.loc[df['ABO_RH'] == 'A2POS', 'ABO_RH'] = 'Apos'\n",
    "df.loc[df['ABO_RH'] == 'ANEGL', 'ABO_RH'] = 'Aneg'\n",
    "df.loc[df['ABO_RH'] == 'BwPOS', 'ABO_RH'] = 'Bpos'\n",
    "df.loc[df['ABO_RH'] == 'ONEGH', 'ABO_RH'] = 'Oneg'\n",
    "df.loc[df['ABO_RH'] == 'OPOSH', 'ABO_RH'] = 'Opos'\n",
    "df.loc[df['ABO_RH'] == 'OPOSL', 'ABO_RH'] = 'Opos'\n",
    "df.loc[df['ABO_RH'] == 'wABNEG', 'ABO_RH'] = 'ABneg'\n",
    "df.loc[df['ABO_RH'] == 'wABPOS', 'ABO_RH'] = 'ABpos'\n",
    "df.loc[df['ABO_RH'] == 'wANEG', 'ABO_RH'] = 'Aneg'\n",
    "df.loc[df['ABO_RH'] == 'wAPOS', 'ABO_RH'] = 'Apos'\n",
    "df.loc[df['ABO_RH'] == 'APOS', 'ABO_RH'] = 'Apos'\n",
    "df.loc[df['ABO_RH'] == 'ANEG', 'ABO_RH'] = 'Aneg'\n",
    "df.loc[df['ABO_RH'] == 'BPOS', 'ABO_RH'] = 'Bpos'\n",
    "df.loc[df['ABO_RH'] == 'BNEG', 'ABO_RH'] = 'Bneg'\n",
    "df.loc[df['ABO_RH'] == 'ABPOS', 'ABO_RH'] = 'ABpos'\n",
    "df.loc[df['ABO_RH'] == 'ABNEG', 'ABO_RH'] = 'ABneg'\n",
    "df.loc[df['ABO_RH'] == 'OPOS', 'ABO_RH'] = 'Opos'\n",
    "df.loc[df['ABO_RH'] == 'ONEG', 'ABO_RH'] = 'Oneg'\n",
    "\n",
    "\n",
    "df.ABO_RH.value_counts()\n",
    "\n"
   ]
  },
  {
   "cell_type": "code",
   "execution_count": 16,
   "id": "a5c37ec9-e1b9-47ac-bc54-86666228d5f6",
   "metadata": {},
   "outputs": [
    {
     "data": {
      "text/plain": [
       "White            2468287\n",
       "African Black    1759599\n",
       "Asian             328759\n",
       "Mixed Race        268633\n",
       "unknown            44056\n",
       "Name: race, dtype: int64"
      ]
     },
     "execution_count": 16,
     "metadata": {},
     "output_type": "execute_result"
    }
   ],
   "source": [
    "df.race.value_counts()"
   ]
  },
  {
   "cell_type": "code",
   "execution_count": 17,
   "id": "35d1e0f6-7829-48ee-a231-0c310b041496",
   "metadata": {},
   "outputs": [],
   "source": [
    "# Compute donation product for deferred donors - using the following criteria\n",
    " # 1) if donor only has WB then deferred donation is WB\n",
    " # 2) if next donation procedure is WB then deferred donation is WB/\n",
    " # 3) if previous donation procedure is WB then deferred donation is WB/\n",
    " # 4) if only donated one time and got deferred - WB\n",
    " \n",
    "#prev successful \n",
    "#next successful\n",
    "df.sort_values(by=['DonorID', 'don_Sequence', 'Visit_Date'], axis = 0, inplace=True)\n",
    "\n",
    "df[\"NEXT_DON\"] = np.where(df['DonorID'] == df['DonorID'].shift(-1), df['donation_product'].shift(-1), 10)\n",
    "df[\"PREV_DON\"] = np.where(df['DonorID'] == df['DonorID'].shift(1), df['donation_product'].shift(1), 10)\n",
    "\n"
   ]
  },
  {
   "cell_type": "code",
   "execution_count": 18,
   "id": "439ef2e1-77a7-46ed-8902-1632a12ddb58",
   "metadata": {},
   "outputs": [],
   "source": [
    "\n",
    "df['def_prod_imputed'] = np.where((df['donation_product'] == 'DEF PROD') & (df.PREV_DON=='WB'), 1, 0)\n",
    "df['def_prod_imputed'] = np.where((df['donation_product'] == 'DEF PROD') & (df.NEXT_DON=='WB'), 1, df.def_prod_imputed)\n",
    "df['def_prod_imputed'] = np.where((df['donation_product'] == 'DEF PROD') & ((df.NEXT_DON==10) & (df.PREV_DON==10)), 1, df.def_prod_imputed)\n",
    "df['donation_product']=np.where(df.def_prod_imputed == 1, 'WB', df.donation_product)\n"
   ]
  },
  {
   "cell_type": "code",
   "execution_count": 19,
   "id": "482f917d-ad23-4506-9ea0-e18995cc6afc",
   "metadata": {},
   "outputs": [],
   "source": [
    "# backward fill remaining NOT DRAWNs- most proximal next visit\n",
    "df['donation_product']=np.where((df['donation_product'] == 'DEF PROD'), np.NaN, (df['donation_product']))\n",
    "\n",
    "df['donation_product'] = df.groupby('DonorID')['donation_product'].bfill()\n"
   ]
  },
  {
   "cell_type": "code",
   "execution_count": 20,
   "id": "ca5b81c4",
   "metadata": {},
   "outputs": [],
   "source": [
    "#keep on wb and rbc\n",
    "df.drop(df[(df['donation_product'] != 'WB')].index, inplace=True)\n",
    "\n",
    "\n",
    "#keep only data after 2017\n",
    "mask = (df['Visit_yr'] >= 2017) \n",
    "df = df.loc[mask]\n",
    "\n"
   ]
  },
  {
   "cell_type": "code",
   "execution_count": 21,
   "id": "242cd130-1d84-46f7-aad1-37e76bad8f25",
   "metadata": {},
   "outputs": [],
   "source": [
    "#check if donor return to the same mobile ID\n",
    "\n",
    "#for fixed only, for mobile only and overall\n",
    "\n",
    "df.loc[(df.Fixed_mobile==0) & (df['MobileID'] == df['MobileID'].shift(-1)), 'return_to_same_ID_by_dn']= 'mm' #for mobile only\n",
    "df.loc[(df.Fixed_mobile==1) & (df['MobileID'] == df['MobileID'].shift(-1)), 'return_to_same_ID_by_dn']= 'ff' #for fixed only\n",
    "df.loc[(df['MobileID'] == df['MobileID'].shift(-1)), 'return_to_same_ID']= 1 #overall\n"
   ]
  },
  {
   "cell_type": "code",
   "execution_count": 22,
   "id": "49e1c195-cd84-4263-8ab2-b2ca94abf385",
   "metadata": {},
   "outputs": [],
   "source": [
    "# add oppurtunities to donate in next 12 months - computed in 00_mobileID.ipynb and saved in csv file, mID_table\n",
    "df_mID=pd.read_csv(\"../1_data/private/mID_table.csv\")\n",
    "df_mID[\"Visit_Date\"] = df_mID[\"Visit_Date\"].astype(\"datetime64\") #convert to date time object\n",
    "df=pd.merge(df, df_mID[['MobileID', 'Visit_Date', 'count_in_next_12_months']], how='left', on=[\"MobileID\", \"Visit_Date\"])\n"
   ]
  },
  {
   "cell_type": "code",
   "execution_count": 23,
   "id": "c23b85cb-b74b-4daa-be13-35c98c8f6859",
   "metadata": {},
   "outputs": [
    {
     "data": {
      "text/plain": [
       "12_more        748927\n",
       "3_6            739486\n",
       "7_12           248341\n",
       "Bi_Annual_2    172711\n",
       "Annual_1       161850\n",
       "Name: Opp_to_donate, dtype: int64"
      ]
     },
     "execution_count": 23,
     "metadata": {},
     "output_type": "execute_result"
    }
   ],
   "source": [
    "df.loc[df.count_in_next_12_months==1, 'Opp_to_donate']=\"Annual_1\"\n",
    "df.loc[df.count_in_next_12_months==2, 'Opp_to_donate']=\"Bi_Annual_2\"\n",
    "df.loc[(df.count_in_next_12_months>=3) & (df.count_in_next_12_months<=6), 'Opp_to_donate']=\"3_6\"\n",
    "df.loc[(df.count_in_next_12_months>6) & (df.count_in_next_12_months<=12), 'Opp_to_donate']=\"7_12\"\n",
    "df.loc[(df.count_in_next_12_months>12), 'Opp_to_donate']=\"12_more\"\n",
    "df.Opp_to_donate.value_counts()"
   ]
  },
  {
   "cell_type": "code",
   "execution_count": 45,
   "id": "11dd0fc0-bd50-41d5-978e-69254eb6060c",
   "metadata": {},
   "outputs": [],
   "source": [
    "df = df.sort_values(by=['DonorID', 'Visit_Date'])\n",
    "df['TimeSinceFirstDonation'] = df.groupby('DonorID')['Visit_Date'].diff().dt.days"
   ]
  },
  {
   "cell_type": "code",
   "execution_count": 47,
   "id": "13755c7c-1f7e-42f8-8e79-c3546d891103",
   "metadata": {},
   "outputs": [],
   "source": [
    "# Identify the first-time donors who received a hemoglobin deferral #within a year\n",
    "first_time_comp = df.loc[(df['first_time']==1)]\n",
    "#  keep only the first-time donors and their subsequent donations\n",
    "filtered_df = df.loc[df['DonorID'].isin(first_time_comp['DonorID'])]\n",
    "filtered_df = filtered_df[filtered_df['TimeSinceFirstDonation'] <= 365]\n",
    "grouped_filtered_df=filtered_df.groupby('DonorID')[\"OUTCOME_TYPE\"].apply(list)\n",
    "grouped_filtered_df= pd.DataFrame({'DonorID': grouped_filtered_df.index, 'Outcomes': grouped_filtered_df.values})\n",
    "grouped_filtered_df['Outcomes'] = grouped_filtered_df['Outcomes'].apply(tuple)\n",
    "# Split the list column into multiple columns\n",
    "grouped_filtered_df= grouped_filtered_df['Outcomes'].apply(pd.Series)\n"
   ]
  },
  {
   "cell_type": "code",
   "execution_count": 54,
   "id": "1399b1c5-ce73-46c2-89b6-475bf2e770d2",
   "metadata": {},
   "outputs": [
    {
     "name": "stdout",
     "output_type": "stream",
     "text": [
      "0.8010049238751275\n",
      "0.6385767790262172\n",
      "0.6916457511652923\n"
     ]
    }
   ],
   "source": [
    "group_df2=grouped_filtered_df\n",
    "\n",
    "comp=group_df2.loc[group_df2[0]=='completed']\n",
    "hgb=group_df2.loc[group_df2[0]=='low hgb']\n",
    "\n",
    "#look at consectutive\n",
    "comp2=comp.loc[comp[1]=='completed']\n",
    "hgb2=hgb.loc[hgb[1]=='low hgb']\n",
    "comp_hgb=comp.loc[comp[1]=='low hgb']\n",
    "\n",
    "##calculate probabulity of first tiem donors returning after 2 comp donation\n",
    "num=comp2[2].notna().sum()\n",
    "prob_f_cc=num/len(comp2)\n",
    "print(prob_f_cc)\n",
    "\n",
    "#calculate probabulity of first time donors returning after 2 hgb def\n",
    "num=hgb2[2].notna().sum()\n",
    "prob_f_hh=num/len(hgb2)\n",
    "print(prob_f_hh)\n",
    "\n",
    "#calculate probabulity of first tim donors returning after a comp donation then a hgb deferral\n",
    "num=comp_hgb[2].notna().sum()\n",
    "prob_f_ch=num/len(comp_hgb)\n",
    "print(prob_f_ch)"
   ]
  },
  {
   "cell_type": "code",
   "execution_count": 27,
   "id": "953a5096-f4c3-4fe3-9208-63fb7a774f34",
   "metadata": {},
   "outputs": [],
   "source": [
    "#compute deferral rates\n",
    "\n",
    "first=df.query(\"first_time == 1\")\n",
    "repeat=df.query(\"first_time == 0\")\n",
    "    \n",
    "table={}\n",
    "table['-']=['Female', 'Male', 'All']\n",
    "   \n",
    "    #first time\n",
    "female=(len(first.loc[(first.sex == 'F') & (first.OUTCOME_TYPE=='low hgb')])/len(first.loc[(first.sex == 'F')]))\n",
    "male=(len(first.loc[(first.sex == 'M') & (first.OUTCOME_TYPE=='low hgb')])/len(first.loc[(first.sex == 'M')]))\n",
    "alls=(len(first.loc[(first.OUTCOME_TYPE=='low hgb')])/len(first))\n",
    "table['First Time']=[female, male, alls]\n",
    "    \n",
    "    #repeat\n",
    "    \n",
    "female=(len(repeat.loc[(repeat.sex == 'F') & (repeat.OUTCOME_TYPE=='low hgb')])/len(repeat.loc[(repeat.sex == 'F')]))\n",
    "male=(len(repeat.loc[(repeat.sex == 'M') & (repeat.OUTCOME_TYPE=='low hgb')])/len(repeat.loc[(repeat.sex == 'M')]))\n",
    "alls=(len(repeat.loc[(repeat.OUTCOME_TYPE=='low hgb')])/len(repeat))\n",
    "table['Repeat']=[female, male, alls]\n",
    "    \n",
    "    #all \n",
    "    \n",
    "female=(len(df.loc[(df.sex == 'F') & (df.OUTCOME_TYPE=='low hgb')])/len(df.loc[(df.sex== 'F')]))\n",
    "male=(len(df.loc[(df.sex == 'M') & (df.OUTCOME_TYPE=='low hgb')])/len(df.loc[(df.sex == 'M')]))\n",
    "alls=(len(df.loc[(df.OUTCOME_TYPE=='low hgb')])/len(df))\n",
    "table['All']=[female, male, alls]\n"
   ]
  },
  {
   "cell_type": "code",
   "execution_count": 28,
   "id": "b494f97b-758b-46e1-bb66-2a3d56303e49",
   "metadata": {},
   "outputs": [
    {
     "name": "stdout",
     "output_type": "stream",
     "text": [
      "-----------total deferrals------------\n",
      "completed         3529609\n",
      "other deferral     225968\n",
      "low hgb            196882\n",
      "no draw             66433\n",
      "Name: OUTCOME_TYPE, dtype: int64\n",
      "4018892\n",
      "-----------total counts of outcomes---------\n",
      "completed         3529609\n",
      "other deferral     225968\n",
      "low hgb            196882\n",
      "no draw             66433\n",
      "Name: OUTCOME_TYPE, dtype: int64\n",
      "-----------deferral rate by fixed mobile---------\n",
      "0.04154421821769256\n",
      "0.055154253233490935\n",
      "------------% of fixed/mobile--------------\n",
      "0.45298405630208527\n",
      "0.5470159436979147\n",
      "--------------deferral rate table by sex -----------\n",
      "        -  First Time    Repeat       All\n",
      "0  Female    0.004685  0.082618  0.078366\n",
      "1    Male    0.000450  0.022485  0.021663\n",
      "2     All    0.002890  0.051193  0.048989\n",
      "--------donor loyalty to mobileID--------------\n",
      "0.5914215715261749\n",
      "0.7376783444493638\n",
      "0.657673557786574\n",
      "---------total donors---------------\n",
      "587218\n",
      "---------total visits---------------\n",
      "4018892\n"
     ]
    }
   ],
   "source": [
    "#compute stats to report\n",
    "print(\"-----------total deferrals------------\")\n",
    "print(df.OUTCOME_TYPE.value_counts())  # number of deferrals\n",
    "print(len(df))#total observations\n",
    "\n",
    "print('-----------total counts of outcomes---------')\n",
    "print(df['OUTCOME_TYPE'].value_counts())\n",
    "\n",
    "print(\"-----------deferral rate by fixed mobile---------\")\n",
    "\n",
    "print(len(df.loc[((df['OUTCOME_TYPE']==\"low hgb\") & (df['Fixed_mobile']== 1))])/len(df.loc[(df['Fixed_mobile']==1)]))\n",
    "print(len(df.loc[((df['OUTCOME_TYPE']==\"low hgb\") & (df['Fixed_mobile']== 0))])/len(df.loc[(df['Fixed_mobile']==0)]))\n",
    "\n",
    "print('------------% of fixed/mobile--------------')\n",
    "print(len(df.loc[(df['Fixed_mobile']==1)])/len(df))\n",
    "print(len(df.loc[(df['Fixed_mobile']==0)])/len(df))\n",
    "\n",
    "print('--------------deferral rate table by sex -----------')\n",
    "table=pd.DataFrame.from_dict(table)\n",
    "print(table)\n",
    "\n",
    "print('--------donor loyalty to mobileID--------------')\n",
    "print(len(df.loc[df.return_to_same_ID_by_dn =='mm'])/len(df.loc[(df.Fixed_mobile==0)])) #mob only\n",
    "print(len(df.loc[df.return_to_same_ID_by_dn =='ff'])/len(df.loc[(df.Fixed_mobile==1)]))#fixed only\n",
    "print(len(df.loc[df.return_to_same_ID ==1])/len(df))#overall\n",
    "\n",
    "\n",
    "print('---------total donors---------------')\n",
    "print(df.DonorID.nunique())\n",
    "print('---------total visits---------------')\n",
    "print(len(df))\n"
   ]
  },
  {
   "cell_type": "code",
   "execution_count": 668,
   "id": "4af63afc",
   "metadata": {},
   "outputs": [],
   "source": [
    "#drop cols that arent needed \n",
    "\n",
    "#save preprocessed file\n",
    "df.to_csv((\"../1_data/private/preprocessed_data.csv\"), index=False)\n"
   ]
  },
  {
   "cell_type": "code",
   "execution_count": 26,
   "id": "53151721",
   "metadata": {},
   "outputs": [
    {
     "data": {
      "text/plain": [
       "\"\\n# Create a boxplot to see distribution of return times after subtrating ineligiblity period\\nplt.figure(figsize=(8, 6))\\nplt.boxplot([df[df['OUTCOME_TYPE'] == 'completed']['time_to_return'],\\n             df[df['OUTCOME_TYPE'] == 'low hgb']['time_to_return']],\\n            labels=['completed', 'low hgb'])\\n\\nplt.xlabel('Category')\\nplt.ylabel('Return Time')\\nplt.title('Distribution of Return Times')\\nplt.show()\\n\\n\\ndf_end=df.loc[df['time_to_return'] <0]\\n\\nprint(len(df_end))\\n\\n\""
      ]
     },
     "execution_count": 26,
     "metadata": {},
     "output_type": "execute_result"
    }
   ],
   "source": [
    "\"\"\"\n",
    "# Create a boxplot to see distribution of return times after subtrating ineligiblity period\n",
    "plt.figure(figsize=(8, 6))\n",
    "plt.boxplot([df[df['OUTCOME_TYPE'] == 'completed']['time_to_return'],\n",
    "             df[df['OUTCOME_TYPE'] == 'low hgb']['time_to_return']],\n",
    "            labels=['completed', 'low hgb'])\n",
    "\n",
    "plt.xlabel('Category')\n",
    "plt.ylabel('Return Time')\n",
    "plt.title('Distribution of Return Times')\n",
    "plt.show()\n",
    "\n",
    "\n",
    "df_end=df.loc[df['time_to_return'] <0]\n",
    "\n",
    "print(len(df_end))\n",
    "\n",
    "\"\"\""
   ]
  },
  {
   "cell_type": "code",
   "execution_count": null,
   "id": "b47fc405",
   "metadata": {},
   "outputs": [],
   "source": [
    "\"\"\"\n",
    "sns.histplot(df, x=\"Fixed_mobile\", stat=\"probability\")\n",
    "#Plot fixed pattern\n",
    "#create value count\n",
    "\n",
    "df2 = df[df['fixed_mobile_pattern'] != 'last']\n",
    "plt.figure()\n",
    "g=sns.histplot(df2, x=df2[\"fixed_mobile_pattern\"], stat=\"probability\")\n",
    "#plt.legend(title='Fixed-Mobile Pattern', loc='upper left', labels=['Hell Yeh', 'Nah Bruh'])\n",
    "plt.xlabel('Fixed-Mobile Pattern')\n",
    "plt.show(g)\n",
    "\n",
    "\n",
    "# the % of each fixed mobile pattern resulting in hemoglobin deferral or other deferral\n",
    "plt.figure()\n",
    "i=sns.histplot(data=df2, x=\"fixed_mobile_pattern\", hue=\"OUTCOME_TYPE\", stat = 'probability',binwidth=1, multiple=\"stack\")\n",
    "#plt.legend(title='Fixed vs Mobile by Year', loc='upper left', labels=['Mobile', 'Fixed'])\n",
    "plt.show(i)\n",
    "\n",
    "\"\"\""
   ]
  },
  {
   "cell_type": "code",
   "execution_count": null,
   "id": "83f9bce0",
   "metadata": {},
   "outputs": [],
   "source": [
    "\n",
    "#calculate probabulity of first time donors returning after a comp donation\n",
    "#num=comp[1].notna().sum()\n",
    "#prob_f_c=num/len(comp)\n",
    "#print(prob_f_c)\n",
    "\n",
    "#calculate probabulity of first time donors returning after a hgb def\n",
    "#num=hgb[1].notna().sum()\n",
    "#prob_f_h=num/len(hgb)\n",
    "#print(prob_f_h)"
   ]
  }
 ],
 "metadata": {
  "kernelspec": {
   "display_name": "Python 3 (ipykernel)",
   "language": "python",
   "name": "python3"
  },
  "language_info": {
   "codemirror_mode": {
    "name": "ipython",
    "version": 3
   },
   "file_extension": ".py",
   "mimetype": "text/x-python",
   "name": "python",
   "nbconvert_exporter": "python",
   "pygments_lexer": "ipython3",
   "version": "3.10.12"
  },
  "vscode": {
   "interpreter": {
    "hash": "5ceecb7da2aafc3df56a72e3d5d21f12f2307c7cf9b9b8f49c6cfc619e649209"
   }
  }
 },
 "nbformat": 4,
 "nbformat_minor": 5
}
